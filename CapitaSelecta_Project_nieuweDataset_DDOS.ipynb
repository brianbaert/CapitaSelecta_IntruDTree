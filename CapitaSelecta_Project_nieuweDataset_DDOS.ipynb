{
  "nbformat": 4,
  "nbformat_minor": 0,
  "metadata": {
    "colab": {
      "provenance": [],
      "include_colab_link": true
    },
    "kernelspec": {
      "name": "python3",
      "display_name": "Python 3"
    },
    "language_info": {
      "name": "python"
    }
  },
  "cells": [
    {
      "cell_type": "markdown",
      "metadata": {
        "id": "view-in-github",
        "colab_type": "text"
      },
      "source": [
        "<a href=\"https://colab.research.google.com/github/brianbaert/CapitaSelecta_IntruDTree/blob/main/CapitaSelecta_Project_nieuweDataset_DDOS.ipynb\" target=\"_parent\"><img src=\"https://colab.research.google.com/assets/colab-badge.svg\" alt=\"Open In Colab\"/></a>"
      ]
    },
    {
      "cell_type": "markdown",
      "source": [
        "# Capita Selecta project - IntruDTree\n",
        "Team members: Daan Wesselman, Brian Baert\n"
      ],
      "metadata": {
        "id": "2nfEIYXHLX7k"
      }
    },
    {
      "cell_type": "markdown",
      "source": [
        "### Necessary imports"
      ],
      "metadata": {
        "id": "duAOknB5LWHQ"
      }
    },
    {
      "cell_type": "code",
      "execution_count": null,
      "metadata": {
        "id": "oN1uaepTLDcE"
      },
      "outputs": [],
      "source": [
        "import pandas as pd\n",
        "import numpy as np\n",
        "import seaborn as sns\n",
        "import matplotlib.pyplot as plt\n",
        "import pprint\n",
        "import random\n",
        "from sklearn.model_selection import cross_val_score\n",
        "from sklearn.metrics import accuracy_score, precision_score, recall_score, f1_score, confusion_matrix, ConfusionMatrixDisplay, roc_curve, RocCurveDisplay, auc\n",
        "from sklearn.tree import DecisionTreeClassifier\n",
        "from sklearn.preprocessing import LabelEncoder\n",
        "from sklearn.preprocessing import StandardScaler\n",
        "from sklearn.model_selection import train_test_split\n",
        "from sklearn.ensemble import RandomForestClassifier\n",
        "from datetime import datetime\n",
        "random.seed(datetime.now().timestamp())"
      ]
    },
    {
      "cell_type": "markdown",
      "source": [
        "## Using same methods on different dataset\n",
        "Sharafaldin, I., Lashkari, A. H., Ghorbani, A. A. (2018). Towards generating a new intrusion detection dataset and intrusion traffic characterization. Proceedings of the 4th international conference on information systems security and privacy, 108-116\n",
        "[DOI](https://www.scitepress.org/papers/2018/66398/66398.pdf)\n",
        "\n"
      ],
      "metadata": {
        "id": "P4-5StKhMr25"
      }
    },
    {
      "cell_type": "markdown",
      "source": [
        "### Exploring the dataset\n",
        "The dataset can be found via this [link](https://www.unb.ca/cic/datasets/ids-2017.html).\n",
        "\n",
        "The dataset contains of 8 sub-datasets with different attack-types as label. All of them are much larger than the dataset used in the original paper of Sarker et al. This notebook analyses the ddos-attacks subset: 'Friday-WorkingHours-Afternoon-DDos.pcap_ISCX.csv'"
      ],
      "metadata": {
        "id": "zwFS8TzJMS70"
      }
    },
    {
      "cell_type": "code",
      "source": [
        "from google.colab import drive\n",
        "drive.mount('/content/drive')"
      ],
      "metadata": {
        "colab": {
          "base_uri": "https://localhost:8080/"
        },
        "id": "KByqxQ4rMAcQ",
        "outputId": "36843d91-4f28-4318-d254-04ab0ba5ee67"
      },
      "execution_count": null,
      "outputs": [
        {
          "output_type": "stream",
          "name": "stdout",
          "text": [
            "Mounted at /content/drive\n"
          ]
        }
      ]
    },
    {
      "cell_type": "code",
      "source": [
        "#from google.colab import files\n",
        "#uploaded=files.upload()\n",
        "train = pd.read_csv('/content/drive/MyDrive/Colab Notebooks/IntruDTree_dataset/Friday-WorkingHours-Afternoon-DDos.pcap_ISCX.csv')\n",
        "#train = pd.read_csv('/content/drive/MyDrive/Colab Notebooks/MachineLearningCVE/Friday-WorkingHours-Afternoon-DDos.pcap_ISCX.csv')\n",
        "train.info()"
      ],
      "metadata": {
        "colab": {
          "base_uri": "https://localhost:8080/"
        },
        "id": "S493CIYkMZwb",
        "outputId": "6645d6f4-0f33-47d6-d186-cecac78a10c9"
      },
      "execution_count": null,
      "outputs": [
        {
          "output_type": "stream",
          "name": "stdout",
          "text": [
            "<class 'pandas.core.frame.DataFrame'>\n",
            "RangeIndex: 225745 entries, 0 to 225744\n",
            "Data columns (total 79 columns):\n",
            " #   Column                        Non-Null Count   Dtype  \n",
            "---  ------                        --------------   -----  \n",
            " 0    Destination Port             225745 non-null  int64  \n",
            " 1    Flow Duration                225745 non-null  int64  \n",
            " 2    Total Fwd Packets            225745 non-null  int64  \n",
            " 3    Total Backward Packets       225745 non-null  int64  \n",
            " 4   Total Length of Fwd Packets   225745 non-null  int64  \n",
            " 5    Total Length of Bwd Packets  225745 non-null  int64  \n",
            " 6    Fwd Packet Length Max        225745 non-null  int64  \n",
            " 7    Fwd Packet Length Min        225745 non-null  int64  \n",
            " 8    Fwd Packet Length Mean       225745 non-null  float64\n",
            " 9    Fwd Packet Length Std        225745 non-null  float64\n",
            " 10  Bwd Packet Length Max         225745 non-null  int64  \n",
            " 11   Bwd Packet Length Min        225745 non-null  int64  \n",
            " 12   Bwd Packet Length Mean       225745 non-null  float64\n",
            " 13   Bwd Packet Length Std        225745 non-null  float64\n",
            " 14  Flow Bytes/s                  225741 non-null  float64\n",
            " 15   Flow Packets/s               225745 non-null  float64\n",
            " 16   Flow IAT Mean                225745 non-null  float64\n",
            " 17   Flow IAT Std                 225745 non-null  float64\n",
            " 18   Flow IAT Max                 225745 non-null  int64  \n",
            " 19   Flow IAT Min                 225745 non-null  int64  \n",
            " 20  Fwd IAT Total                 225745 non-null  int64  \n",
            " 21   Fwd IAT Mean                 225745 non-null  float64\n",
            " 22   Fwd IAT Std                  225745 non-null  float64\n",
            " 23   Fwd IAT Max                  225745 non-null  int64  \n",
            " 24   Fwd IAT Min                  225745 non-null  int64  \n",
            " 25  Bwd IAT Total                 225745 non-null  int64  \n",
            " 26   Bwd IAT Mean                 225745 non-null  float64\n",
            " 27   Bwd IAT Std                  225745 non-null  float64\n",
            " 28   Bwd IAT Max                  225745 non-null  int64  \n",
            " 29   Bwd IAT Min                  225745 non-null  int64  \n",
            " 30  Fwd PSH Flags                 225745 non-null  int64  \n",
            " 31   Bwd PSH Flags                225745 non-null  int64  \n",
            " 32   Fwd URG Flags                225745 non-null  int64  \n",
            " 33   Bwd URG Flags                225745 non-null  int64  \n",
            " 34   Fwd Header Length            225745 non-null  int64  \n",
            " 35   Bwd Header Length            225745 non-null  int64  \n",
            " 36  Fwd Packets/s                 225745 non-null  float64\n",
            " 37   Bwd Packets/s                225745 non-null  float64\n",
            " 38   Min Packet Length            225745 non-null  int64  \n",
            " 39   Max Packet Length            225745 non-null  int64  \n",
            " 40   Packet Length Mean           225745 non-null  float64\n",
            " 41   Packet Length Std            225745 non-null  float64\n",
            " 42   Packet Length Variance       225745 non-null  float64\n",
            " 43  FIN Flag Count                225745 non-null  int64  \n",
            " 44   SYN Flag Count               225745 non-null  int64  \n",
            " 45   RST Flag Count               225745 non-null  int64  \n",
            " 46   PSH Flag Count               225745 non-null  int64  \n",
            " 47   ACK Flag Count               225745 non-null  int64  \n",
            " 48   URG Flag Count               225745 non-null  int64  \n",
            " 49   CWE Flag Count               225745 non-null  int64  \n",
            " 50   ECE Flag Count               225745 non-null  int64  \n",
            " 51   Down/Up Ratio                225745 non-null  int64  \n",
            " 52   Average Packet Size          225745 non-null  float64\n",
            " 53   Avg Fwd Segment Size         225745 non-null  float64\n",
            " 54   Avg Bwd Segment Size         225745 non-null  float64\n",
            " 55   Fwd Header Length.1          225745 non-null  int64  \n",
            " 56  Fwd Avg Bytes/Bulk            225745 non-null  int64  \n",
            " 57   Fwd Avg Packets/Bulk         225745 non-null  int64  \n",
            " 58   Fwd Avg Bulk Rate            225745 non-null  int64  \n",
            " 59   Bwd Avg Bytes/Bulk           225745 non-null  int64  \n",
            " 60   Bwd Avg Packets/Bulk         225745 non-null  int64  \n",
            " 61  Bwd Avg Bulk Rate             225745 non-null  int64  \n",
            " 62  Subflow Fwd Packets           225745 non-null  int64  \n",
            " 63   Subflow Fwd Bytes            225745 non-null  int64  \n",
            " 64   Subflow Bwd Packets          225745 non-null  int64  \n",
            " 65   Subflow Bwd Bytes            225745 non-null  int64  \n",
            " 66  Init_Win_bytes_forward        225745 non-null  int64  \n",
            " 67   Init_Win_bytes_backward      225745 non-null  int64  \n",
            " 68   act_data_pkt_fwd             225745 non-null  int64  \n",
            " 69   min_seg_size_forward         225745 non-null  int64  \n",
            " 70  Active Mean                   225745 non-null  float64\n",
            " 71   Active Std                   225745 non-null  float64\n",
            " 72   Active Max                   225745 non-null  int64  \n",
            " 73   Active Min                   225745 non-null  int64  \n",
            " 74  Idle Mean                     225745 non-null  float64\n",
            " 75   Idle Std                     225745 non-null  float64\n",
            " 76   Idle Max                     225745 non-null  int64  \n",
            " 77   Idle Min                     225745 non-null  int64  \n",
            " 78   Label                        225745 non-null  object \n",
            "dtypes: float64(24), int64(54), object(1)\n",
            "memory usage: 136.1+ MB\n"
          ]
        }
      ]
    },
    {
      "cell_type": "code",
      "source": [
        "train[[' Label']].value_counts()"
      ],
      "metadata": {
        "colab": {
          "base_uri": "https://localhost:8080/"
        },
        "id": "r073qv1FP3eP",
        "outputId": "8a7c31cc-8ba7-4924-ab4c-93ed26df5a3b"
      },
      "execution_count": null,
      "outputs": [
        {
          "output_type": "execute_result",
          "data": {
            "text/plain": [
              " Label\n",
              "DDoS      128027\n",
              "BENIGN     97718\n",
              "dtype: int64"
            ]
          },
          "metadata": {},
          "execution_count": 41
        }
      ]
    },
    {
      "cell_type": "code",
      "source": [
        "train.describe()"
      ],
      "metadata": {
        "colab": {
          "base_uri": "https://localhost:8080/",
          "height": 384
        },
        "id": "nP0XaFUocmpl",
        "outputId": "6f11e034-941d-4407-e59c-b2e16c2f8424"
      },
      "execution_count": null,
      "outputs": [
        {
          "output_type": "execute_result",
          "data": {
            "text/plain": [
              "        Destination Port   Flow Duration   Total Fwd Packets  \\\n",
              "count       225745.00000    2.257450e+05       225745.000000   \n",
              "mean          8879.61946    1.624165e+07            4.874916   \n",
              "std          19754.64740    3.152437e+07           15.422874   \n",
              "min              0.00000   -1.000000e+00            1.000000   \n",
              "25%             80.00000    7.118000e+04            2.000000   \n",
              "50%             80.00000    1.452333e+06            3.000000   \n",
              "75%             80.00000    8.805237e+06            5.000000   \n",
              "max          65532.00000    1.199999e+08         1932.000000   \n",
              "\n",
              "        Total Backward Packets  Total Length of Fwd Packets  \\\n",
              "count            225745.000000                225745.000000   \n",
              "mean                  4.572775                   939.463346   \n",
              "std                  21.755356                  3249.403484   \n",
              "min                   0.000000                     0.000000   \n",
              "25%                   1.000000                    26.000000   \n",
              "50%                   4.000000                    30.000000   \n",
              "75%                   5.000000                    63.000000   \n",
              "max                2942.000000                183012.000000   \n",
              "\n",
              "        Total Length of Bwd Packets   Fwd Packet Length Max  \\\n",
              "count                  2.257450e+05           225745.000000   \n",
              "mean                   5.960477e+03              538.535693   \n",
              "std                    3.921834e+04             1864.128991   \n",
              "min                    0.000000e+00                0.000000   \n",
              "25%                    0.000000e+00                6.000000   \n",
              "50%                    1.640000e+02               20.000000   \n",
              "75%                    1.160100e+04               34.000000   \n",
              "max                    5.172346e+06            11680.000000   \n",
              "\n",
              "        Fwd Packet Length Min   Fwd Packet Length Mean  \\\n",
              "count           225745.000000            225745.000000   \n",
              "mean                27.882221               164.826715   \n",
              "std                163.324159               504.892965   \n",
              "min                  0.000000                 0.000000   \n",
              "25%                  0.000000                 6.000000   \n",
              "50%                  0.000000                 8.666667   \n",
              "75%                  6.000000                32.000000   \n",
              "max               1472.000000              3867.000000   \n",
              "\n",
              "        Fwd Packet Length Std  ...   act_data_pkt_fwd   min_seg_size_forward  \\\n",
              "count           225745.000000  ...      225745.000000          225745.000000   \n",
              "mean               214.907242  ...           3.311497              21.482753   \n",
              "std                797.411073  ...          12.270018               4.166799   \n",
              "min                  0.000000  ...           0.000000               0.000000   \n",
              "25%                  0.000000  ...           1.000000              20.000000   \n",
              "50%                  5.301991  ...           2.000000              20.000000   \n",
              "75%                 10.263203  ...           4.000000              20.000000   \n",
              "max               6692.644993  ...        1931.000000              52.000000   \n",
              "\n",
              "        Active Mean    Active Std    Active Max    Active Min     Idle Mean  \\\n",
              "count  2.257450e+05  2.257450e+05  2.257450e+05  2.257450e+05  2.257450e+05   \n",
              "mean   1.848261e+05  1.293436e+04  2.080849e+05  1.776201e+05  1.032214e+07   \n",
              "std    7.979250e+05  2.102737e+05  9.002350e+05  7.842602e+05  2.185303e+07   \n",
              "min    0.000000e+00  0.000000e+00  0.000000e+00  0.000000e+00  0.000000e+00   \n",
              "25%    0.000000e+00  0.000000e+00  0.000000e+00  0.000000e+00  0.000000e+00   \n",
              "50%    0.000000e+00  0.000000e+00  0.000000e+00  0.000000e+00  0.000000e+00   \n",
              "75%    1.878000e+03  0.000000e+00  1.878000e+03  1.862000e+03  8.239725e+06   \n",
              "max    1.000000e+08  3.950000e+07  1.000000e+08  1.000000e+08  1.200000e+08   \n",
              "\n",
              "           Idle Std      Idle Max      Idle Min  \n",
              "count  2.257450e+05  2.257450e+05  2.257450e+05  \n",
              "mean   3.611943e+06  1.287813e+07  7.755355e+06  \n",
              "std    1.275689e+07  2.692126e+07  1.983109e+07  \n",
              "min    0.000000e+00  0.000000e+00  0.000000e+00  \n",
              "25%    0.000000e+00  0.000000e+00  0.000000e+00  \n",
              "50%    0.000000e+00  0.000000e+00  0.000000e+00  \n",
              "75%    0.000000e+00  8.253838e+06  7.422849e+06  \n",
              "max    6.530000e+07  1.200000e+08  1.200000e+08  \n",
              "\n",
              "[8 rows x 78 columns]"
            ],
            "text/html": [
              "\n",
              "  <div id=\"df-55a2b094-b7f6-4d65-af69-106da131f81b\" class=\"colab-df-container\">\n",
              "    <div>\n",
              "<style scoped>\n",
              "    .dataframe tbody tr th:only-of-type {\n",
              "        vertical-align: middle;\n",
              "    }\n",
              "\n",
              "    .dataframe tbody tr th {\n",
              "        vertical-align: top;\n",
              "    }\n",
              "\n",
              "    .dataframe thead th {\n",
              "        text-align: right;\n",
              "    }\n",
              "</style>\n",
              "<table border=\"1\" class=\"dataframe\">\n",
              "  <thead>\n",
              "    <tr style=\"text-align: right;\">\n",
              "      <th></th>\n",
              "      <th>Destination Port</th>\n",
              "      <th>Flow Duration</th>\n",
              "      <th>Total Fwd Packets</th>\n",
              "      <th>Total Backward Packets</th>\n",
              "      <th>Total Length of Fwd Packets</th>\n",
              "      <th>Total Length of Bwd Packets</th>\n",
              "      <th>Fwd Packet Length Max</th>\n",
              "      <th>Fwd Packet Length Min</th>\n",
              "      <th>Fwd Packet Length Mean</th>\n",
              "      <th>Fwd Packet Length Std</th>\n",
              "      <th>...</th>\n",
              "      <th>act_data_pkt_fwd</th>\n",
              "      <th>min_seg_size_forward</th>\n",
              "      <th>Active Mean</th>\n",
              "      <th>Active Std</th>\n",
              "      <th>Active Max</th>\n",
              "      <th>Active Min</th>\n",
              "      <th>Idle Mean</th>\n",
              "      <th>Idle Std</th>\n",
              "      <th>Idle Max</th>\n",
              "      <th>Idle Min</th>\n",
              "    </tr>\n",
              "  </thead>\n",
              "  <tbody>\n",
              "    <tr>\n",
              "      <th>count</th>\n",
              "      <td>225745.00000</td>\n",
              "      <td>2.257450e+05</td>\n",
              "      <td>225745.000000</td>\n",
              "      <td>225745.000000</td>\n",
              "      <td>225745.000000</td>\n",
              "      <td>2.257450e+05</td>\n",
              "      <td>225745.000000</td>\n",
              "      <td>225745.000000</td>\n",
              "      <td>225745.000000</td>\n",
              "      <td>225745.000000</td>\n",
              "      <td>...</td>\n",
              "      <td>225745.000000</td>\n",
              "      <td>225745.000000</td>\n",
              "      <td>2.257450e+05</td>\n",
              "      <td>2.257450e+05</td>\n",
              "      <td>2.257450e+05</td>\n",
              "      <td>2.257450e+05</td>\n",
              "      <td>2.257450e+05</td>\n",
              "      <td>2.257450e+05</td>\n",
              "      <td>2.257450e+05</td>\n",
              "      <td>2.257450e+05</td>\n",
              "    </tr>\n",
              "    <tr>\n",
              "      <th>mean</th>\n",
              "      <td>8879.61946</td>\n",
              "      <td>1.624165e+07</td>\n",
              "      <td>4.874916</td>\n",
              "      <td>4.572775</td>\n",
              "      <td>939.463346</td>\n",
              "      <td>5.960477e+03</td>\n",
              "      <td>538.535693</td>\n",
              "      <td>27.882221</td>\n",
              "      <td>164.826715</td>\n",
              "      <td>214.907242</td>\n",
              "      <td>...</td>\n",
              "      <td>3.311497</td>\n",
              "      <td>21.482753</td>\n",
              "      <td>1.848261e+05</td>\n",
              "      <td>1.293436e+04</td>\n",
              "      <td>2.080849e+05</td>\n",
              "      <td>1.776201e+05</td>\n",
              "      <td>1.032214e+07</td>\n",
              "      <td>3.611943e+06</td>\n",
              "      <td>1.287813e+07</td>\n",
              "      <td>7.755355e+06</td>\n",
              "    </tr>\n",
              "    <tr>\n",
              "      <th>std</th>\n",
              "      <td>19754.64740</td>\n",
              "      <td>3.152437e+07</td>\n",
              "      <td>15.422874</td>\n",
              "      <td>21.755356</td>\n",
              "      <td>3249.403484</td>\n",
              "      <td>3.921834e+04</td>\n",
              "      <td>1864.128991</td>\n",
              "      <td>163.324159</td>\n",
              "      <td>504.892965</td>\n",
              "      <td>797.411073</td>\n",
              "      <td>...</td>\n",
              "      <td>12.270018</td>\n",
              "      <td>4.166799</td>\n",
              "      <td>7.979250e+05</td>\n",
              "      <td>2.102737e+05</td>\n",
              "      <td>9.002350e+05</td>\n",
              "      <td>7.842602e+05</td>\n",
              "      <td>2.185303e+07</td>\n",
              "      <td>1.275689e+07</td>\n",
              "      <td>2.692126e+07</td>\n",
              "      <td>1.983109e+07</td>\n",
              "    </tr>\n",
              "    <tr>\n",
              "      <th>min</th>\n",
              "      <td>0.00000</td>\n",
              "      <td>-1.000000e+00</td>\n",
              "      <td>1.000000</td>\n",
              "      <td>0.000000</td>\n",
              "      <td>0.000000</td>\n",
              "      <td>0.000000e+00</td>\n",
              "      <td>0.000000</td>\n",
              "      <td>0.000000</td>\n",
              "      <td>0.000000</td>\n",
              "      <td>0.000000</td>\n",
              "      <td>...</td>\n",
              "      <td>0.000000</td>\n",
              "      <td>0.000000</td>\n",
              "      <td>0.000000e+00</td>\n",
              "      <td>0.000000e+00</td>\n",
              "      <td>0.000000e+00</td>\n",
              "      <td>0.000000e+00</td>\n",
              "      <td>0.000000e+00</td>\n",
              "      <td>0.000000e+00</td>\n",
              "      <td>0.000000e+00</td>\n",
              "      <td>0.000000e+00</td>\n",
              "    </tr>\n",
              "    <tr>\n",
              "      <th>25%</th>\n",
              "      <td>80.00000</td>\n",
              "      <td>7.118000e+04</td>\n",
              "      <td>2.000000</td>\n",
              "      <td>1.000000</td>\n",
              "      <td>26.000000</td>\n",
              "      <td>0.000000e+00</td>\n",
              "      <td>6.000000</td>\n",
              "      <td>0.000000</td>\n",
              "      <td>6.000000</td>\n",
              "      <td>0.000000</td>\n",
              "      <td>...</td>\n",
              "      <td>1.000000</td>\n",
              "      <td>20.000000</td>\n",
              "      <td>0.000000e+00</td>\n",
              "      <td>0.000000e+00</td>\n",
              "      <td>0.000000e+00</td>\n",
              "      <td>0.000000e+00</td>\n",
              "      <td>0.000000e+00</td>\n",
              "      <td>0.000000e+00</td>\n",
              "      <td>0.000000e+00</td>\n",
              "      <td>0.000000e+00</td>\n",
              "    </tr>\n",
              "    <tr>\n",
              "      <th>50%</th>\n",
              "      <td>80.00000</td>\n",
              "      <td>1.452333e+06</td>\n",
              "      <td>3.000000</td>\n",
              "      <td>4.000000</td>\n",
              "      <td>30.000000</td>\n",
              "      <td>1.640000e+02</td>\n",
              "      <td>20.000000</td>\n",
              "      <td>0.000000</td>\n",
              "      <td>8.666667</td>\n",
              "      <td>5.301991</td>\n",
              "      <td>...</td>\n",
              "      <td>2.000000</td>\n",
              "      <td>20.000000</td>\n",
              "      <td>0.000000e+00</td>\n",
              "      <td>0.000000e+00</td>\n",
              "      <td>0.000000e+00</td>\n",
              "      <td>0.000000e+00</td>\n",
              "      <td>0.000000e+00</td>\n",
              "      <td>0.000000e+00</td>\n",
              "      <td>0.000000e+00</td>\n",
              "      <td>0.000000e+00</td>\n",
              "    </tr>\n",
              "    <tr>\n",
              "      <th>75%</th>\n",
              "      <td>80.00000</td>\n",
              "      <td>8.805237e+06</td>\n",
              "      <td>5.000000</td>\n",
              "      <td>5.000000</td>\n",
              "      <td>63.000000</td>\n",
              "      <td>1.160100e+04</td>\n",
              "      <td>34.000000</td>\n",
              "      <td>6.000000</td>\n",
              "      <td>32.000000</td>\n",
              "      <td>10.263203</td>\n",
              "      <td>...</td>\n",
              "      <td>4.000000</td>\n",
              "      <td>20.000000</td>\n",
              "      <td>1.878000e+03</td>\n",
              "      <td>0.000000e+00</td>\n",
              "      <td>1.878000e+03</td>\n",
              "      <td>1.862000e+03</td>\n",
              "      <td>8.239725e+06</td>\n",
              "      <td>0.000000e+00</td>\n",
              "      <td>8.253838e+06</td>\n",
              "      <td>7.422849e+06</td>\n",
              "    </tr>\n",
              "    <tr>\n",
              "      <th>max</th>\n",
              "      <td>65532.00000</td>\n",
              "      <td>1.199999e+08</td>\n",
              "      <td>1932.000000</td>\n",
              "      <td>2942.000000</td>\n",
              "      <td>183012.000000</td>\n",
              "      <td>5.172346e+06</td>\n",
              "      <td>11680.000000</td>\n",
              "      <td>1472.000000</td>\n",
              "      <td>3867.000000</td>\n",
              "      <td>6692.644993</td>\n",
              "      <td>...</td>\n",
              "      <td>1931.000000</td>\n",
              "      <td>52.000000</td>\n",
              "      <td>1.000000e+08</td>\n",
              "      <td>3.950000e+07</td>\n",
              "      <td>1.000000e+08</td>\n",
              "      <td>1.000000e+08</td>\n",
              "      <td>1.200000e+08</td>\n",
              "      <td>6.530000e+07</td>\n",
              "      <td>1.200000e+08</td>\n",
              "      <td>1.200000e+08</td>\n",
              "    </tr>\n",
              "  </tbody>\n",
              "</table>\n",
              "<p>8 rows × 78 columns</p>\n",
              "</div>\n",
              "    <div class=\"colab-df-buttons\">\n",
              "\n",
              "  <div class=\"colab-df-container\">\n",
              "    <button class=\"colab-df-convert\" onclick=\"convertToInteractive('df-55a2b094-b7f6-4d65-af69-106da131f81b')\"\n",
              "            title=\"Convert this dataframe to an interactive table.\"\n",
              "            style=\"display:none;\">\n",
              "\n",
              "  <svg xmlns=\"http://www.w3.org/2000/svg\" height=\"24px\" viewBox=\"0 -960 960 960\">\n",
              "    <path d=\"M120-120v-720h720v720H120Zm60-500h600v-160H180v160Zm220 220h160v-160H400v160Zm0 220h160v-160H400v160ZM180-400h160v-160H180v160Zm440 0h160v-160H620v160ZM180-180h160v-160H180v160Zm440 0h160v-160H620v160Z\"/>\n",
              "  </svg>\n",
              "    </button>\n",
              "\n",
              "  <style>\n",
              "    .colab-df-container {\n",
              "      display:flex;\n",
              "      gap: 12px;\n",
              "    }\n",
              "\n",
              "    .colab-df-convert {\n",
              "      background-color: #E8F0FE;\n",
              "      border: none;\n",
              "      border-radius: 50%;\n",
              "      cursor: pointer;\n",
              "      display: none;\n",
              "      fill: #1967D2;\n",
              "      height: 32px;\n",
              "      padding: 0 0 0 0;\n",
              "      width: 32px;\n",
              "    }\n",
              "\n",
              "    .colab-df-convert:hover {\n",
              "      background-color: #E2EBFA;\n",
              "      box-shadow: 0px 1px 2px rgba(60, 64, 67, 0.3), 0px 1px 3px 1px rgba(60, 64, 67, 0.15);\n",
              "      fill: #174EA6;\n",
              "    }\n",
              "\n",
              "    .colab-df-buttons div {\n",
              "      margin-bottom: 4px;\n",
              "    }\n",
              "\n",
              "    [theme=dark] .colab-df-convert {\n",
              "      background-color: #3B4455;\n",
              "      fill: #D2E3FC;\n",
              "    }\n",
              "\n",
              "    [theme=dark] .colab-df-convert:hover {\n",
              "      background-color: #434B5C;\n",
              "      box-shadow: 0px 1px 3px 1px rgba(0, 0, 0, 0.15);\n",
              "      filter: drop-shadow(0px 1px 2px rgba(0, 0, 0, 0.3));\n",
              "      fill: #FFFFFF;\n",
              "    }\n",
              "  </style>\n",
              "\n",
              "    <script>\n",
              "      const buttonEl =\n",
              "        document.querySelector('#df-55a2b094-b7f6-4d65-af69-106da131f81b button.colab-df-convert');\n",
              "      buttonEl.style.display =\n",
              "        google.colab.kernel.accessAllowed ? 'block' : 'none';\n",
              "\n",
              "      async function convertToInteractive(key) {\n",
              "        const element = document.querySelector('#df-55a2b094-b7f6-4d65-af69-106da131f81b');\n",
              "        const dataTable =\n",
              "          await google.colab.kernel.invokeFunction('convertToInteractive',\n",
              "                                                    [key], {});\n",
              "        if (!dataTable) return;\n",
              "\n",
              "        const docLinkHtml = 'Like what you see? Visit the ' +\n",
              "          '<a target=\"_blank\" href=https://colab.research.google.com/notebooks/data_table.ipynb>data table notebook</a>'\n",
              "          + ' to learn more about interactive tables.';\n",
              "        element.innerHTML = '';\n",
              "        dataTable['output_type'] = 'display_data';\n",
              "        await google.colab.output.renderOutput(dataTable, element);\n",
              "        const docLink = document.createElement('div');\n",
              "        docLink.innerHTML = docLinkHtml;\n",
              "        element.appendChild(docLink);\n",
              "      }\n",
              "    </script>\n",
              "  </div>\n",
              "\n",
              "\n",
              "<div id=\"df-49826e83-8af1-464d-970f-5fe9441983ee\">\n",
              "  <button class=\"colab-df-quickchart\" onclick=\"quickchart('df-49826e83-8af1-464d-970f-5fe9441983ee')\"\n",
              "            title=\"Suggest charts\"\n",
              "            style=\"display:none;\">\n",
              "\n",
              "<svg xmlns=\"http://www.w3.org/2000/svg\" height=\"24px\"viewBox=\"0 0 24 24\"\n",
              "     width=\"24px\">\n",
              "    <g>\n",
              "        <path d=\"M19 3H5c-1.1 0-2 .9-2 2v14c0 1.1.9 2 2 2h14c1.1 0 2-.9 2-2V5c0-1.1-.9-2-2-2zM9 17H7v-7h2v7zm4 0h-2V7h2v10zm4 0h-2v-4h2v4z\"/>\n",
              "    </g>\n",
              "</svg>\n",
              "  </button>\n",
              "\n",
              "<style>\n",
              "  .colab-df-quickchart {\n",
              "      --bg-color: #E8F0FE;\n",
              "      --fill-color: #1967D2;\n",
              "      --hover-bg-color: #E2EBFA;\n",
              "      --hover-fill-color: #174EA6;\n",
              "      --disabled-fill-color: #AAA;\n",
              "      --disabled-bg-color: #DDD;\n",
              "  }\n",
              "\n",
              "  [theme=dark] .colab-df-quickchart {\n",
              "      --bg-color: #3B4455;\n",
              "      --fill-color: #D2E3FC;\n",
              "      --hover-bg-color: #434B5C;\n",
              "      --hover-fill-color: #FFFFFF;\n",
              "      --disabled-bg-color: #3B4455;\n",
              "      --disabled-fill-color: #666;\n",
              "  }\n",
              "\n",
              "  .colab-df-quickchart {\n",
              "    background-color: var(--bg-color);\n",
              "    border: none;\n",
              "    border-radius: 50%;\n",
              "    cursor: pointer;\n",
              "    display: none;\n",
              "    fill: var(--fill-color);\n",
              "    height: 32px;\n",
              "    padding: 0;\n",
              "    width: 32px;\n",
              "  }\n",
              "\n",
              "  .colab-df-quickchart:hover {\n",
              "    background-color: var(--hover-bg-color);\n",
              "    box-shadow: 0 1px 2px rgba(60, 64, 67, 0.3), 0 1px 3px 1px rgba(60, 64, 67, 0.15);\n",
              "    fill: var(--button-hover-fill-color);\n",
              "  }\n",
              "\n",
              "  .colab-df-quickchart-complete:disabled,\n",
              "  .colab-df-quickchart-complete:disabled:hover {\n",
              "    background-color: var(--disabled-bg-color);\n",
              "    fill: var(--disabled-fill-color);\n",
              "    box-shadow: none;\n",
              "  }\n",
              "\n",
              "  .colab-df-spinner {\n",
              "    border: 2px solid var(--fill-color);\n",
              "    border-color: transparent;\n",
              "    border-bottom-color: var(--fill-color);\n",
              "    animation:\n",
              "      spin 1s steps(1) infinite;\n",
              "  }\n",
              "\n",
              "  @keyframes spin {\n",
              "    0% {\n",
              "      border-color: transparent;\n",
              "      border-bottom-color: var(--fill-color);\n",
              "      border-left-color: var(--fill-color);\n",
              "    }\n",
              "    20% {\n",
              "      border-color: transparent;\n",
              "      border-left-color: var(--fill-color);\n",
              "      border-top-color: var(--fill-color);\n",
              "    }\n",
              "    30% {\n",
              "      border-color: transparent;\n",
              "      border-left-color: var(--fill-color);\n",
              "      border-top-color: var(--fill-color);\n",
              "      border-right-color: var(--fill-color);\n",
              "    }\n",
              "    40% {\n",
              "      border-color: transparent;\n",
              "      border-right-color: var(--fill-color);\n",
              "      border-top-color: var(--fill-color);\n",
              "    }\n",
              "    60% {\n",
              "      border-color: transparent;\n",
              "      border-right-color: var(--fill-color);\n",
              "    }\n",
              "    80% {\n",
              "      border-color: transparent;\n",
              "      border-right-color: var(--fill-color);\n",
              "      border-bottom-color: var(--fill-color);\n",
              "    }\n",
              "    90% {\n",
              "      border-color: transparent;\n",
              "      border-bottom-color: var(--fill-color);\n",
              "    }\n",
              "  }\n",
              "</style>\n",
              "\n",
              "  <script>\n",
              "    async function quickchart(key) {\n",
              "      const quickchartButtonEl =\n",
              "        document.querySelector('#' + key + ' button');\n",
              "      quickchartButtonEl.disabled = true;  // To prevent multiple clicks.\n",
              "      quickchartButtonEl.classList.add('colab-df-spinner');\n",
              "      try {\n",
              "        const charts = await google.colab.kernel.invokeFunction(\n",
              "            'suggestCharts', [key], {});\n",
              "      } catch (error) {\n",
              "        console.error('Error during call to suggestCharts:', error);\n",
              "      }\n",
              "      quickchartButtonEl.classList.remove('colab-df-spinner');\n",
              "      quickchartButtonEl.classList.add('colab-df-quickchart-complete');\n",
              "    }\n",
              "    (() => {\n",
              "      let quickchartButtonEl =\n",
              "        document.querySelector('#df-49826e83-8af1-464d-970f-5fe9441983ee button');\n",
              "      quickchartButtonEl.style.display =\n",
              "        google.colab.kernel.accessAllowed ? 'block' : 'none';\n",
              "    })();\n",
              "  </script>\n",
              "</div>\n",
              "    </div>\n",
              "  </div>\n"
            ]
          },
          "metadata": {},
          "execution_count": 5
        }
      ]
    },
    {
      "cell_type": "markdown",
      "source": [
        "## Removing some rows\n",
        "The variables 'Flow Bytes/s' and ' Flow Packets/s' have 30 and 34 (overlapping) rows with missing values. These instances are removed"
      ],
      "metadata": {
        "id": "1UWsA8ehqu9j"
      }
    },
    {
      "cell_type": "code",
      "source": [
        "train = train[train['Flow Bytes/s'] != np.inf].reset_index(drop=True)\n",
        "train = train[train[' Flow Packets/s'] != np.inf].reset_index(drop=True)\n",
        "train.describe()"
      ],
      "metadata": {
        "colab": {
          "base_uri": "https://localhost:8080/",
          "height": 384
        },
        "id": "bCNI1bqCrJRY",
        "outputId": "74c70ef6-3238-4d2b-e084-aa3d238d04c0"
      },
      "execution_count": null,
      "outputs": [
        {
          "output_type": "execute_result",
          "data": {
            "text/plain": [
              "        Destination Port   Flow Duration   Total Fwd Packets  \\\n",
              "count      225711.000000    2.257110e+05       225711.000000   \n",
              "mean         8876.556769    1.624410e+07            4.875389   \n",
              "std         19752.018851    3.152612e+07           15.423986   \n",
              "min             0.000000   -1.000000e+00            1.000000   \n",
              "25%            80.000000    7.123800e+04            2.000000   \n",
              "50%            80.000000    1.453164e+06            3.000000   \n",
              "75%            80.000000    8.806652e+06            5.000000   \n",
              "max         65532.000000    1.199999e+08         1932.000000   \n",
              "\n",
              "        Total Backward Packets  Total Length of Fwd Packets  \\\n",
              "count            225711.000000                225711.000000   \n",
              "mean                  4.573424                   939.603147   \n",
              "std                  21.756929                  3249.628245   \n",
              "min                   0.000000                     0.000000   \n",
              "25%                   1.000000                    26.000000   \n",
              "50%                   4.000000                    30.000000   \n",
              "75%                   5.000000                    64.000000   \n",
              "max                2942.000000                183012.000000   \n",
              "\n",
              "        Total Length of Bwd Packets   Fwd Packet Length Max  \\\n",
              "count                  2.257110e+05           225711.000000   \n",
              "mean                   5.961369e+03              538.615499   \n",
              "std                    3.922122e+04             1864.258043   \n",
              "min                    0.000000e+00                0.000000   \n",
              "25%                    0.000000e+00                6.000000   \n",
              "50%                    1.640000e+02               20.000000   \n",
              "75%                    1.160100e+04               34.000000   \n",
              "max                    5.172346e+06            11680.000000   \n",
              "\n",
              "        Fwd Packet Length Min   Fwd Packet Length Mean  \\\n",
              "count           225711.000000            225711.000000   \n",
              "mean                27.885810               164.850580   \n",
              "std                163.336194               504.927243   \n",
              "min                  0.000000                 0.000000   \n",
              "25%                  0.000000                 6.000000   \n",
              "50%                  0.000000                 8.666667   \n",
              "75%                  6.000000                32.000000   \n",
              "max               1472.000000              3867.000000   \n",
              "\n",
              "        Fwd Packet Length Std  ...   act_data_pkt_fwd   min_seg_size_forward  \\\n",
              "count           225711.000000  ...       225711.00000          225711.000000   \n",
              "mean               214.939117  ...            3.31193              21.482338   \n",
              "std                797.466898  ...           12.27089               4.166228   \n",
              "min                  0.000000  ...            0.00000               0.000000   \n",
              "25%                  0.000000  ...            1.00000              20.000000   \n",
              "50%                  5.301991  ...            2.00000              20.000000   \n",
              "75%                 10.263203  ...            4.00000              20.000000   \n",
              "max               6692.644993  ...         1931.00000              52.000000   \n",
              "\n",
              "        Active Mean    Active Std    Active Max    Active Min     Idle Mean  \\\n",
              "count  2.257110e+05  2.257110e+05  2.257110e+05  2.257110e+05  2.257110e+05   \n",
              "mean   1.848539e+05  1.293631e+04  2.081162e+05  1.776468e+05  1.032370e+07   \n",
              "std    7.979819e+05  2.102894e+05  9.002992e+05  7.843163e+05  2.185431e+07   \n",
              "min    0.000000e+00  0.000000e+00  0.000000e+00  0.000000e+00  0.000000e+00   \n",
              "25%    0.000000e+00  0.000000e+00  0.000000e+00  0.000000e+00  0.000000e+00   \n",
              "50%    0.000000e+00  0.000000e+00  0.000000e+00  0.000000e+00  0.000000e+00   \n",
              "75%    1.879000e+03  0.000000e+00  1.879000e+03  1.863000e+03  8.241416e+06   \n",
              "max    1.000000e+08  3.950000e+07  1.000000e+08  1.000000e+08  1.200000e+08   \n",
              "\n",
              "           Idle Std      Idle Max      Idle Min  \n",
              "count  2.257110e+05  2.257110e+05  2.257110e+05  \n",
              "mean   3.612487e+06  1.288007e+07  7.756523e+06  \n",
              "std    1.275778e+07  2.692283e+07  1.983236e+07  \n",
              "min    0.000000e+00  0.000000e+00  0.000000e+00  \n",
              "25%    0.000000e+00  0.000000e+00  0.000000e+00  \n",
              "50%    0.000000e+00  0.000000e+00  0.000000e+00  \n",
              "75%    0.000000e+00  8.254452e+06  7.423865e+06  \n",
              "max    6.530000e+07  1.200000e+08  1.200000e+08  \n",
              "\n",
              "[8 rows x 78 columns]"
            ],
            "text/html": [
              "\n",
              "  <div id=\"df-4c4d6d34-0768-408a-8fae-b8f9f825f0dc\" class=\"colab-df-container\">\n",
              "    <div>\n",
              "<style scoped>\n",
              "    .dataframe tbody tr th:only-of-type {\n",
              "        vertical-align: middle;\n",
              "    }\n",
              "\n",
              "    .dataframe tbody tr th {\n",
              "        vertical-align: top;\n",
              "    }\n",
              "\n",
              "    .dataframe thead th {\n",
              "        text-align: right;\n",
              "    }\n",
              "</style>\n",
              "<table border=\"1\" class=\"dataframe\">\n",
              "  <thead>\n",
              "    <tr style=\"text-align: right;\">\n",
              "      <th></th>\n",
              "      <th>Destination Port</th>\n",
              "      <th>Flow Duration</th>\n",
              "      <th>Total Fwd Packets</th>\n",
              "      <th>Total Backward Packets</th>\n",
              "      <th>Total Length of Fwd Packets</th>\n",
              "      <th>Total Length of Bwd Packets</th>\n",
              "      <th>Fwd Packet Length Max</th>\n",
              "      <th>Fwd Packet Length Min</th>\n",
              "      <th>Fwd Packet Length Mean</th>\n",
              "      <th>Fwd Packet Length Std</th>\n",
              "      <th>...</th>\n",
              "      <th>act_data_pkt_fwd</th>\n",
              "      <th>min_seg_size_forward</th>\n",
              "      <th>Active Mean</th>\n",
              "      <th>Active Std</th>\n",
              "      <th>Active Max</th>\n",
              "      <th>Active Min</th>\n",
              "      <th>Idle Mean</th>\n",
              "      <th>Idle Std</th>\n",
              "      <th>Idle Max</th>\n",
              "      <th>Idle Min</th>\n",
              "    </tr>\n",
              "  </thead>\n",
              "  <tbody>\n",
              "    <tr>\n",
              "      <th>count</th>\n",
              "      <td>225711.000000</td>\n",
              "      <td>2.257110e+05</td>\n",
              "      <td>225711.000000</td>\n",
              "      <td>225711.000000</td>\n",
              "      <td>225711.000000</td>\n",
              "      <td>2.257110e+05</td>\n",
              "      <td>225711.000000</td>\n",
              "      <td>225711.000000</td>\n",
              "      <td>225711.000000</td>\n",
              "      <td>225711.000000</td>\n",
              "      <td>...</td>\n",
              "      <td>225711.00000</td>\n",
              "      <td>225711.000000</td>\n",
              "      <td>2.257110e+05</td>\n",
              "      <td>2.257110e+05</td>\n",
              "      <td>2.257110e+05</td>\n",
              "      <td>2.257110e+05</td>\n",
              "      <td>2.257110e+05</td>\n",
              "      <td>2.257110e+05</td>\n",
              "      <td>2.257110e+05</td>\n",
              "      <td>2.257110e+05</td>\n",
              "    </tr>\n",
              "    <tr>\n",
              "      <th>mean</th>\n",
              "      <td>8876.556769</td>\n",
              "      <td>1.624410e+07</td>\n",
              "      <td>4.875389</td>\n",
              "      <td>4.573424</td>\n",
              "      <td>939.603147</td>\n",
              "      <td>5.961369e+03</td>\n",
              "      <td>538.615499</td>\n",
              "      <td>27.885810</td>\n",
              "      <td>164.850580</td>\n",
              "      <td>214.939117</td>\n",
              "      <td>...</td>\n",
              "      <td>3.31193</td>\n",
              "      <td>21.482338</td>\n",
              "      <td>1.848539e+05</td>\n",
              "      <td>1.293631e+04</td>\n",
              "      <td>2.081162e+05</td>\n",
              "      <td>1.776468e+05</td>\n",
              "      <td>1.032370e+07</td>\n",
              "      <td>3.612487e+06</td>\n",
              "      <td>1.288007e+07</td>\n",
              "      <td>7.756523e+06</td>\n",
              "    </tr>\n",
              "    <tr>\n",
              "      <th>std</th>\n",
              "      <td>19752.018851</td>\n",
              "      <td>3.152612e+07</td>\n",
              "      <td>15.423986</td>\n",
              "      <td>21.756929</td>\n",
              "      <td>3249.628245</td>\n",
              "      <td>3.922122e+04</td>\n",
              "      <td>1864.258043</td>\n",
              "      <td>163.336194</td>\n",
              "      <td>504.927243</td>\n",
              "      <td>797.466898</td>\n",
              "      <td>...</td>\n",
              "      <td>12.27089</td>\n",
              "      <td>4.166228</td>\n",
              "      <td>7.979819e+05</td>\n",
              "      <td>2.102894e+05</td>\n",
              "      <td>9.002992e+05</td>\n",
              "      <td>7.843163e+05</td>\n",
              "      <td>2.185431e+07</td>\n",
              "      <td>1.275778e+07</td>\n",
              "      <td>2.692283e+07</td>\n",
              "      <td>1.983236e+07</td>\n",
              "    </tr>\n",
              "    <tr>\n",
              "      <th>min</th>\n",
              "      <td>0.000000</td>\n",
              "      <td>-1.000000e+00</td>\n",
              "      <td>1.000000</td>\n",
              "      <td>0.000000</td>\n",
              "      <td>0.000000</td>\n",
              "      <td>0.000000e+00</td>\n",
              "      <td>0.000000</td>\n",
              "      <td>0.000000</td>\n",
              "      <td>0.000000</td>\n",
              "      <td>0.000000</td>\n",
              "      <td>...</td>\n",
              "      <td>0.00000</td>\n",
              "      <td>0.000000</td>\n",
              "      <td>0.000000e+00</td>\n",
              "      <td>0.000000e+00</td>\n",
              "      <td>0.000000e+00</td>\n",
              "      <td>0.000000e+00</td>\n",
              "      <td>0.000000e+00</td>\n",
              "      <td>0.000000e+00</td>\n",
              "      <td>0.000000e+00</td>\n",
              "      <td>0.000000e+00</td>\n",
              "    </tr>\n",
              "    <tr>\n",
              "      <th>25%</th>\n",
              "      <td>80.000000</td>\n",
              "      <td>7.123800e+04</td>\n",
              "      <td>2.000000</td>\n",
              "      <td>1.000000</td>\n",
              "      <td>26.000000</td>\n",
              "      <td>0.000000e+00</td>\n",
              "      <td>6.000000</td>\n",
              "      <td>0.000000</td>\n",
              "      <td>6.000000</td>\n",
              "      <td>0.000000</td>\n",
              "      <td>...</td>\n",
              "      <td>1.00000</td>\n",
              "      <td>20.000000</td>\n",
              "      <td>0.000000e+00</td>\n",
              "      <td>0.000000e+00</td>\n",
              "      <td>0.000000e+00</td>\n",
              "      <td>0.000000e+00</td>\n",
              "      <td>0.000000e+00</td>\n",
              "      <td>0.000000e+00</td>\n",
              "      <td>0.000000e+00</td>\n",
              "      <td>0.000000e+00</td>\n",
              "    </tr>\n",
              "    <tr>\n",
              "      <th>50%</th>\n",
              "      <td>80.000000</td>\n",
              "      <td>1.453164e+06</td>\n",
              "      <td>3.000000</td>\n",
              "      <td>4.000000</td>\n",
              "      <td>30.000000</td>\n",
              "      <td>1.640000e+02</td>\n",
              "      <td>20.000000</td>\n",
              "      <td>0.000000</td>\n",
              "      <td>8.666667</td>\n",
              "      <td>5.301991</td>\n",
              "      <td>...</td>\n",
              "      <td>2.00000</td>\n",
              "      <td>20.000000</td>\n",
              "      <td>0.000000e+00</td>\n",
              "      <td>0.000000e+00</td>\n",
              "      <td>0.000000e+00</td>\n",
              "      <td>0.000000e+00</td>\n",
              "      <td>0.000000e+00</td>\n",
              "      <td>0.000000e+00</td>\n",
              "      <td>0.000000e+00</td>\n",
              "      <td>0.000000e+00</td>\n",
              "    </tr>\n",
              "    <tr>\n",
              "      <th>75%</th>\n",
              "      <td>80.000000</td>\n",
              "      <td>8.806652e+06</td>\n",
              "      <td>5.000000</td>\n",
              "      <td>5.000000</td>\n",
              "      <td>64.000000</td>\n",
              "      <td>1.160100e+04</td>\n",
              "      <td>34.000000</td>\n",
              "      <td>6.000000</td>\n",
              "      <td>32.000000</td>\n",
              "      <td>10.263203</td>\n",
              "      <td>...</td>\n",
              "      <td>4.00000</td>\n",
              "      <td>20.000000</td>\n",
              "      <td>1.879000e+03</td>\n",
              "      <td>0.000000e+00</td>\n",
              "      <td>1.879000e+03</td>\n",
              "      <td>1.863000e+03</td>\n",
              "      <td>8.241416e+06</td>\n",
              "      <td>0.000000e+00</td>\n",
              "      <td>8.254452e+06</td>\n",
              "      <td>7.423865e+06</td>\n",
              "    </tr>\n",
              "    <tr>\n",
              "      <th>max</th>\n",
              "      <td>65532.000000</td>\n",
              "      <td>1.199999e+08</td>\n",
              "      <td>1932.000000</td>\n",
              "      <td>2942.000000</td>\n",
              "      <td>183012.000000</td>\n",
              "      <td>5.172346e+06</td>\n",
              "      <td>11680.000000</td>\n",
              "      <td>1472.000000</td>\n",
              "      <td>3867.000000</td>\n",
              "      <td>6692.644993</td>\n",
              "      <td>...</td>\n",
              "      <td>1931.00000</td>\n",
              "      <td>52.000000</td>\n",
              "      <td>1.000000e+08</td>\n",
              "      <td>3.950000e+07</td>\n",
              "      <td>1.000000e+08</td>\n",
              "      <td>1.000000e+08</td>\n",
              "      <td>1.200000e+08</td>\n",
              "      <td>6.530000e+07</td>\n",
              "      <td>1.200000e+08</td>\n",
              "      <td>1.200000e+08</td>\n",
              "    </tr>\n",
              "  </tbody>\n",
              "</table>\n",
              "<p>8 rows × 78 columns</p>\n",
              "</div>\n",
              "    <div class=\"colab-df-buttons\">\n",
              "\n",
              "  <div class=\"colab-df-container\">\n",
              "    <button class=\"colab-df-convert\" onclick=\"convertToInteractive('df-4c4d6d34-0768-408a-8fae-b8f9f825f0dc')\"\n",
              "            title=\"Convert this dataframe to an interactive table.\"\n",
              "            style=\"display:none;\">\n",
              "\n",
              "  <svg xmlns=\"http://www.w3.org/2000/svg\" height=\"24px\" viewBox=\"0 -960 960 960\">\n",
              "    <path d=\"M120-120v-720h720v720H120Zm60-500h600v-160H180v160Zm220 220h160v-160H400v160Zm0 220h160v-160H400v160ZM180-400h160v-160H180v160Zm440 0h160v-160H620v160ZM180-180h160v-160H180v160Zm440 0h160v-160H620v160Z\"/>\n",
              "  </svg>\n",
              "    </button>\n",
              "\n",
              "  <style>\n",
              "    .colab-df-container {\n",
              "      display:flex;\n",
              "      gap: 12px;\n",
              "    }\n",
              "\n",
              "    .colab-df-convert {\n",
              "      background-color: #E8F0FE;\n",
              "      border: none;\n",
              "      border-radius: 50%;\n",
              "      cursor: pointer;\n",
              "      display: none;\n",
              "      fill: #1967D2;\n",
              "      height: 32px;\n",
              "      padding: 0 0 0 0;\n",
              "      width: 32px;\n",
              "    }\n",
              "\n",
              "    .colab-df-convert:hover {\n",
              "      background-color: #E2EBFA;\n",
              "      box-shadow: 0px 1px 2px rgba(60, 64, 67, 0.3), 0px 1px 3px 1px rgba(60, 64, 67, 0.15);\n",
              "      fill: #174EA6;\n",
              "    }\n",
              "\n",
              "    .colab-df-buttons div {\n",
              "      margin-bottom: 4px;\n",
              "    }\n",
              "\n",
              "    [theme=dark] .colab-df-convert {\n",
              "      background-color: #3B4455;\n",
              "      fill: #D2E3FC;\n",
              "    }\n",
              "\n",
              "    [theme=dark] .colab-df-convert:hover {\n",
              "      background-color: #434B5C;\n",
              "      box-shadow: 0px 1px 3px 1px rgba(0, 0, 0, 0.15);\n",
              "      filter: drop-shadow(0px 1px 2px rgba(0, 0, 0, 0.3));\n",
              "      fill: #FFFFFF;\n",
              "    }\n",
              "  </style>\n",
              "\n",
              "    <script>\n",
              "      const buttonEl =\n",
              "        document.querySelector('#df-4c4d6d34-0768-408a-8fae-b8f9f825f0dc button.colab-df-convert');\n",
              "      buttonEl.style.display =\n",
              "        google.colab.kernel.accessAllowed ? 'block' : 'none';\n",
              "\n",
              "      async function convertToInteractive(key) {\n",
              "        const element = document.querySelector('#df-4c4d6d34-0768-408a-8fae-b8f9f825f0dc');\n",
              "        const dataTable =\n",
              "          await google.colab.kernel.invokeFunction('convertToInteractive',\n",
              "                                                    [key], {});\n",
              "        if (!dataTable) return;\n",
              "\n",
              "        const docLinkHtml = 'Like what you see? Visit the ' +\n",
              "          '<a target=\"_blank\" href=https://colab.research.google.com/notebooks/data_table.ipynb>data table notebook</a>'\n",
              "          + ' to learn more about interactive tables.';\n",
              "        element.innerHTML = '';\n",
              "        dataTable['output_type'] = 'display_data';\n",
              "        await google.colab.output.renderOutput(dataTable, element);\n",
              "        const docLink = document.createElement('div');\n",
              "        docLink.innerHTML = docLinkHtml;\n",
              "        element.appendChild(docLink);\n",
              "      }\n",
              "    </script>\n",
              "  </div>\n",
              "\n",
              "\n",
              "<div id=\"df-50ec9dfa-9535-476e-b257-aac242d0bff0\">\n",
              "  <button class=\"colab-df-quickchart\" onclick=\"quickchart('df-50ec9dfa-9535-476e-b257-aac242d0bff0')\"\n",
              "            title=\"Suggest charts\"\n",
              "            style=\"display:none;\">\n",
              "\n",
              "<svg xmlns=\"http://www.w3.org/2000/svg\" height=\"24px\"viewBox=\"0 0 24 24\"\n",
              "     width=\"24px\">\n",
              "    <g>\n",
              "        <path d=\"M19 3H5c-1.1 0-2 .9-2 2v14c0 1.1.9 2 2 2h14c1.1 0 2-.9 2-2V5c0-1.1-.9-2-2-2zM9 17H7v-7h2v7zm4 0h-2V7h2v10zm4 0h-2v-4h2v4z\"/>\n",
              "    </g>\n",
              "</svg>\n",
              "  </button>\n",
              "\n",
              "<style>\n",
              "  .colab-df-quickchart {\n",
              "      --bg-color: #E8F0FE;\n",
              "      --fill-color: #1967D2;\n",
              "      --hover-bg-color: #E2EBFA;\n",
              "      --hover-fill-color: #174EA6;\n",
              "      --disabled-fill-color: #AAA;\n",
              "      --disabled-bg-color: #DDD;\n",
              "  }\n",
              "\n",
              "  [theme=dark] .colab-df-quickchart {\n",
              "      --bg-color: #3B4455;\n",
              "      --fill-color: #D2E3FC;\n",
              "      --hover-bg-color: #434B5C;\n",
              "      --hover-fill-color: #FFFFFF;\n",
              "      --disabled-bg-color: #3B4455;\n",
              "      --disabled-fill-color: #666;\n",
              "  }\n",
              "\n",
              "  .colab-df-quickchart {\n",
              "    background-color: var(--bg-color);\n",
              "    border: none;\n",
              "    border-radius: 50%;\n",
              "    cursor: pointer;\n",
              "    display: none;\n",
              "    fill: var(--fill-color);\n",
              "    height: 32px;\n",
              "    padding: 0;\n",
              "    width: 32px;\n",
              "  }\n",
              "\n",
              "  .colab-df-quickchart:hover {\n",
              "    background-color: var(--hover-bg-color);\n",
              "    box-shadow: 0 1px 2px rgba(60, 64, 67, 0.3), 0 1px 3px 1px rgba(60, 64, 67, 0.15);\n",
              "    fill: var(--button-hover-fill-color);\n",
              "  }\n",
              "\n",
              "  .colab-df-quickchart-complete:disabled,\n",
              "  .colab-df-quickchart-complete:disabled:hover {\n",
              "    background-color: var(--disabled-bg-color);\n",
              "    fill: var(--disabled-fill-color);\n",
              "    box-shadow: none;\n",
              "  }\n",
              "\n",
              "  .colab-df-spinner {\n",
              "    border: 2px solid var(--fill-color);\n",
              "    border-color: transparent;\n",
              "    border-bottom-color: var(--fill-color);\n",
              "    animation:\n",
              "      spin 1s steps(1) infinite;\n",
              "  }\n",
              "\n",
              "  @keyframes spin {\n",
              "    0% {\n",
              "      border-color: transparent;\n",
              "      border-bottom-color: var(--fill-color);\n",
              "      border-left-color: var(--fill-color);\n",
              "    }\n",
              "    20% {\n",
              "      border-color: transparent;\n",
              "      border-left-color: var(--fill-color);\n",
              "      border-top-color: var(--fill-color);\n",
              "    }\n",
              "    30% {\n",
              "      border-color: transparent;\n",
              "      border-left-color: var(--fill-color);\n",
              "      border-top-color: var(--fill-color);\n",
              "      border-right-color: var(--fill-color);\n",
              "    }\n",
              "    40% {\n",
              "      border-color: transparent;\n",
              "      border-right-color: var(--fill-color);\n",
              "      border-top-color: var(--fill-color);\n",
              "    }\n",
              "    60% {\n",
              "      border-color: transparent;\n",
              "      border-right-color: var(--fill-color);\n",
              "    }\n",
              "    80% {\n",
              "      border-color: transparent;\n",
              "      border-right-color: var(--fill-color);\n",
              "      border-bottom-color: var(--fill-color);\n",
              "    }\n",
              "    90% {\n",
              "      border-color: transparent;\n",
              "      border-bottom-color: var(--fill-color);\n",
              "    }\n",
              "  }\n",
              "</style>\n",
              "\n",
              "  <script>\n",
              "    async function quickchart(key) {\n",
              "      const quickchartButtonEl =\n",
              "        document.querySelector('#' + key + ' button');\n",
              "      quickchartButtonEl.disabled = true;  // To prevent multiple clicks.\n",
              "      quickchartButtonEl.classList.add('colab-df-spinner');\n",
              "      try {\n",
              "        const charts = await google.colab.kernel.invokeFunction(\n",
              "            'suggestCharts', [key], {});\n",
              "      } catch (error) {\n",
              "        console.error('Error during call to suggestCharts:', error);\n",
              "      }\n",
              "      quickchartButtonEl.classList.remove('colab-df-spinner');\n",
              "      quickchartButtonEl.classList.add('colab-df-quickchart-complete');\n",
              "    }\n",
              "    (() => {\n",
              "      let quickchartButtonEl =\n",
              "        document.querySelector('#df-50ec9dfa-9535-476e-b257-aac242d0bff0 button');\n",
              "      quickchartButtonEl.style.display =\n",
              "        google.colab.kernel.accessAllowed ? 'block' : 'none';\n",
              "    })();\n",
              "  </script>\n",
              "</div>\n",
              "    </div>\n",
              "  </div>\n"
            ]
          },
          "metadata": {},
          "execution_count": 6
        }
      ]
    },
    {
      "cell_type": "code",
      "source": [
        "train['Flow Bytes/s'].plot(title='Distribution of Flow Bytes/s')"
      ],
      "metadata": {
        "colab": {
          "base_uri": "https://localhost:8080/",
          "height": 470
        },
        "id": "wM_dmaJ3cv5O",
        "outputId": "bc366892-e759-44a7-8c12-0f5f10ec0a9c"
      },
      "execution_count": null,
      "outputs": [
        {
          "output_type": "execute_result",
          "data": {
            "text/plain": [
              "<Axes: title={'center': 'Distribution of Flow Bytes/s'}>"
            ]
          },
          "metadata": {},
          "execution_count": 7
        },
        {
          "output_type": "display_data",
          "data": {
            "text/plain": [
              "<Figure size 640x480 with 1 Axes>"
            ],
            "image/png": "[encoded data removed]"
          },
          "metadata": {}
        }
      ]
    },
    {
      "cell_type": "markdown",
      "source": [
        "### Cleaning up the dataset\n",
        "\n",
        "\n",
        "1.   Feature encoding (not needed for this dataset, there are no categorical variables)\n",
        "2.   Feature scaling\n",
        "\n"
      ],
      "metadata": {
        "id": "NBrQw5EmMVLx"
      }
    },
    {
      "cell_type": "code",
      "source": [
        "y = train[' Label']\n",
        "train.drop(' Label', axis='columns', inplace=True)"
      ],
      "metadata": {
        "id": "-mztkHmzOa1R"
      },
      "execution_count": null,
      "outputs": []
    },
    {
      "cell_type": "code",
      "source": [
        "len(y) - y.value_counts()['BENIGN']"
      ],
      "metadata": {
        "colab": {
          "base_uri": "https://localhost:8080/"
        },
        "id": "eOMEHEn-ihSZ",
        "outputId": "cb56c578-04f4-428b-8fa1-5e2bcd970650"
      },
      "execution_count": null,
      "outputs": [
        {
          "output_type": "execute_result",
          "data": {
            "text/plain": [
              "128025"
            ]
          },
          "metadata": {},
          "execution_count": 9
        }
      ]
    },
    {
      "cell_type": "code",
      "source": [
        "X = train"
      ],
      "metadata": {
        "id": "ZiVZpavNSLDZ"
      },
      "execution_count": null,
      "outputs": []
    },
    {
      "cell_type": "code",
      "source": [
        "scaler = StandardScaler()\n",
        "for col in X.columns:\n",
        "  temp = np.array(X[col]).reshape(-1,1)\n",
        "  temp_scaled = scaler.fit_transform(temp)\n",
        "  X[col] = temp_scaled.flatten()"
      ],
      "metadata": {
        "id": "gdgm1-17qN2D"
      },
      "execution_count": null,
      "outputs": []
    },
    {
      "cell_type": "code",
      "source": [
        "X.info()"
      ],
      "metadata": {
        "id": "VIKlQacODwc_",
        "colab": {
          "base_uri": "https://localhost:8080/"
        },
        "outputId": "6b9f5707-d89e-4948-ce19-7bc859c2973a"
      },
      "execution_count": null,
      "outputs": [
        {
          "output_type": "stream",
          "name": "stdout",
          "text": [
            "<class 'pandas.core.frame.DataFrame'>\n",
            "RangeIndex: 225711 entries, 0 to 225710\n",
            "Data columns (total 78 columns):\n",
            " #   Column                        Non-Null Count   Dtype  \n",
            "---  ------                        --------------   -----  \n",
            " 0    Destination Port             225711 non-null  float64\n",
            " 1    Flow Duration                225711 non-null  float64\n",
            " 2    Total Fwd Packets            225711 non-null  float64\n",
            " 3    Total Backward Packets       225711 non-null  float64\n",
            " 4   Total Length of Fwd Packets   225711 non-null  float64\n",
            " 5    Total Length of Bwd Packets  225711 non-null  float64\n",
            " 6    Fwd Packet Length Max        225711 non-null  float64\n",
            " 7    Fwd Packet Length Min        225711 non-null  float64\n",
            " 8    Fwd Packet Length Mean       225711 non-null  float64\n",
            " 9    Fwd Packet Length Std        225711 non-null  float64\n",
            " 10  Bwd Packet Length Max         225711 non-null  float64\n",
            " 11   Bwd Packet Length Min        225711 non-null  float64\n",
            " 12   Bwd Packet Length Mean       225711 non-null  float64\n",
            " 13   Bwd Packet Length Std        225711 non-null  float64\n",
            " 14  Flow Bytes/s                  225711 non-null  float64\n",
            " 15   Flow Packets/s               225711 non-null  float64\n",
            " 16   Flow IAT Mean                225711 non-null  float64\n",
            " 17   Flow IAT Std                 225711 non-null  float64\n",
            " 18   Flow IAT Max                 225711 non-null  float64\n",
            " 19   Flow IAT Min                 225711 non-null  float64\n",
            " 20  Fwd IAT Total                 225711 non-null  float64\n",
            " 21   Fwd IAT Mean                 225711 non-null  float64\n",
            " 22   Fwd IAT Std                  225711 non-null  float64\n",
            " 23   Fwd IAT Max                  225711 non-null  float64\n",
            " 24   Fwd IAT Min                  225711 non-null  float64\n",
            " 25  Bwd IAT Total                 225711 non-null  float64\n",
            " 26   Bwd IAT Mean                 225711 non-null  float64\n",
            " 27   Bwd IAT Std                  225711 non-null  float64\n",
            " 28   Bwd IAT Max                  225711 non-null  float64\n",
            " 29   Bwd IAT Min                  225711 non-null  float64\n",
            " 30  Fwd PSH Flags                 225711 non-null  float64\n",
            " 31   Bwd PSH Flags                225711 non-null  float64\n",
            " 32   Fwd URG Flags                225711 non-null  float64\n",
            " 33   Bwd URG Flags                225711 non-null  float64\n",
            " 34   Fwd Header Length            225711 non-null  float64\n",
            " 35   Bwd Header Length            225711 non-null  float64\n",
            " 36  Fwd Packets/s                 225711 non-null  float64\n",
            " 37   Bwd Packets/s                225711 non-null  float64\n",
            " 38   Min Packet Length            225711 non-null  float64\n",
            " 39   Max Packet Length            225711 non-null  float64\n",
            " 40   Packet Length Mean           225711 non-null  float64\n",
            " 41   Packet Length Std            225711 non-null  float64\n",
            " 42   Packet Length Variance       225711 non-null  float64\n",
            " 43  FIN Flag Count                225711 non-null  float64\n",
            " 44   SYN Flag Count               225711 non-null  float64\n",
            " 45   RST Flag Count               225711 non-null  float64\n",
            " 46   PSH Flag Count               225711 non-null  float64\n",
            " 47   ACK Flag Count               225711 non-null  float64\n",
            " 48   URG Flag Count               225711 non-null  float64\n",
            " 49   CWE Flag Count               225711 non-null  float64\n",
            " 50   ECE Flag Count               225711 non-null  float64\n",
            " 51   Down/Up Ratio                225711 non-null  float64\n",
            " 52   Average Packet Size          225711 non-null  float64\n",
            " 53   Avg Fwd Segment Size         225711 non-null  float64\n",
            " 54   Avg Bwd Segment Size         225711 non-null  float64\n",
            " 55   Fwd Header Length.1          225711 non-null  float64\n",
            " 56  Fwd Avg Bytes/Bulk            225711 non-null  float64\n",
            " 57   Fwd Avg Packets/Bulk         225711 non-null  float64\n",
            " 58   Fwd Avg Bulk Rate            225711 non-null  float64\n",
            " 59   Bwd Avg Bytes/Bulk           225711 non-null  float64\n",
            " 60   Bwd Avg Packets/Bulk         225711 non-null  float64\n",
            " 61  Bwd Avg Bulk Rate             225711 non-null  float64\n",
            " 62  Subflow Fwd Packets           225711 non-null  float64\n",
            " 63   Subflow Fwd Bytes            225711 non-null  float64\n",
            " 64   Subflow Bwd Packets          225711 non-null  float64\n",
            " 65   Subflow Bwd Bytes            225711 non-null  float64\n",
            " 66  Init_Win_bytes_forward        225711 non-null  float64\n",
            " 67   Init_Win_bytes_backward      225711 non-null  float64\n",
            " 68   act_data_pkt_fwd             225711 non-null  float64\n",
            " 69   min_seg_size_forward         225711 non-null  float64\n",
            " 70  Active Mean                   225711 non-null  float64\n",
            " 71   Active Std                   225711 non-null  float64\n",
            " 72   Active Max                   225711 non-null  float64\n",
            " 73   Active Min                   225711 non-null  float64\n",
            " 74  Idle Mean                     225711 non-null  float64\n",
            " 75   Idle Std                     225711 non-null  float64\n",
            " 76   Idle Max                     225711 non-null  float64\n",
            " 77   Idle Min                     225711 non-null  float64\n",
            "dtypes: float64(78)\n",
            "memory usage: 134.3 MB\n"
          ]
        }
      ]
    },
    {
      "cell_type": "markdown",
      "source": [
        "Perform the Train-Test-Split on the entire dataset"
      ],
      "metadata": {
        "id": "EgzQ0hUPRTmO"
      }
    },
    {
      "cell_type": "code",
      "source": [
        "X_train, X_test, y_train, y_test = train_test_split(X, y, test_size=0.2, random_state=random.randint(0,10000))"
      ],
      "metadata": {
        "id": "-c6lf8mTRS3j"
      },
      "execution_count": null,
      "outputs": []
    },
    {
      "cell_type": "markdown",
      "source": [
        "### Calculating feature importance and ranking"
      ],
      "metadata": {
        "id": "pVWuO9QjMNAV"
      }
    },
    {
      "cell_type": "markdown",
      "source": [
        "First attempt is a random Decision Tree Classifier"
      ],
      "metadata": {
        "id": "gJiy1-4nEWZb"
      }
    },
    {
      "cell_type": "code",
      "source": [
        "FeatImportanceTree = DecisionTreeClassifier(criterion='gini', random_state=random.randint(0,10000))\n",
        "FeatImportanceTree.fit(X_train, y_train)"
      ],
      "metadata": {
        "id": "DMM9vkDdMBYI",
        "colab": {
          "base_uri": "https://localhost:8080/",
          "height": 74
        },
        "outputId": "c5e5893a-4a99-4a46-ee34-1fbc0632e9c8"
      },
      "execution_count": null,
      "outputs": [
        {
          "output_type": "execute_result",
          "data": {
            "text/plain": [
              "DecisionTreeClassifier(random_state=3774)"
            ],
            "text/html": [
              "<style>#sk-container-id-1 {color: black;background-color: white;}#sk-container-id-1 pre{padding: 0;}#sk-container-id-1 div.sk-toggleable {background-color: white;}#sk-container-id-1 label.sk-toggleable__label {cursor: pointer;display: block;width: 100%;margin-bottom: 0;padding: 0.3em;box-sizing: border-box;text-align: center;}#sk-container-id-1 label.sk-toggleable__label-arrow:before {content: \"▸\";float: left;margin-right: 0.25em;color: #696969;}#sk-container-id-1 label.sk-toggleable__label-arrow:hover:before {color: black;}#sk-container-id-1 div.sk-estimator:hover label.sk-toggleable__label-arrow:before {color: black;}#sk-container-id-1 div.sk-toggleable__content {max-height: 0;max-width: 0;overflow: hidden;text-align: left;background-color: #f0f8ff;}#sk-container-id-1 div.sk-toggleable__content pre {margin: 0.2em;color: black;border-radius: 0.25em;background-color: #f0f8ff;}#sk-container-id-1 input.sk-toggleable__control:checked~div.sk-toggleable__content {max-height: 200px;max-width: 100%;overflow: auto;}#sk-container-id-1 input.sk-toggleable__control:checked~label.sk-toggleable__label-arrow:before {content: \"▾\";}#sk-container-id-1 div.sk-estimator input.sk-toggleable__control:checked~label.sk-toggleable__label {background-color: #d4ebff;}#sk-container-id-1 div.sk-label input.sk-toggleable__control:checked~label.sk-toggleable__label {background-color: #d4ebff;}#sk-container-id-1 input.sk-hidden--visually {border: 0;clip: rect(1px 1px 1px 1px);clip: rect(1px, 1px, 1px, 1px);height: 1px;margin: -1px;overflow: hidden;padding: 0;position: absolute;width: 1px;}#sk-container-id-1 div.sk-estimator {font-family: monospace;background-color: #f0f8ff;border: 1px dotted black;border-radius: 0.25em;box-sizing: border-box;margin-bottom: 0.5em;}#sk-container-id-1 div.sk-estimator:hover {background-color: #d4ebff;}#sk-container-id-1 div.sk-parallel-item::after {content: \"\";width: 100%;border-bottom: 1px solid gray;flex-grow: 1;}#sk-container-id-1 div.sk-label:hover label.sk-toggleable__label {background-color: #d4ebff;}#sk-container-id-1 div.sk-serial::before {content: \"\";position: absolute;border-left: 1px solid gray;box-sizing: border-box;top: 0;bottom: 0;left: 50%;z-index: 0;}#sk-container-id-1 div.sk-serial {display: flex;flex-direction: column;align-items: center;background-color: white;padding-right: 0.2em;padding-left: 0.2em;position: relative;}#sk-container-id-1 div.sk-item {position: relative;z-index: 1;}#sk-container-id-1 div.sk-parallel {display: flex;align-items: stretch;justify-content: center;background-color: white;position: relative;}#sk-container-id-1 div.sk-item::before, #sk-container-id-1 div.sk-parallel-item::before {content: \"\";position: absolute;border-left: 1px solid gray;box-sizing: border-box;top: 0;bottom: 0;left: 50%;z-index: -1;}#sk-container-id-1 div.sk-parallel-item {display: flex;flex-direction: column;z-index: 1;position: relative;background-color: white;}#sk-container-id-1 div.sk-parallel-item:first-child::after {align-self: flex-end;width: 50%;}#sk-container-id-1 div.sk-parallel-item:last-child::after {align-self: flex-start;width: 50%;}#sk-container-id-1 div.sk-parallel-item:only-child::after {width: 0;}#sk-container-id-1 div.sk-dashed-wrapped {border: 1px dashed gray;margin: 0 0.4em 0.5em 0.4em;box-sizing: border-box;padding-bottom: 0.4em;background-color: white;}#sk-container-id-1 div.sk-label label {font-family: monospace;font-weight: bold;display: inline-block;line-height: 1.2em;}#sk-container-id-1 div.sk-label-container {text-align: center;}#sk-container-id-1 div.sk-container {/* jupyter's `normalize.less` sets `[hidden] { display: none; }` but bootstrap.min.css set `[hidden] { display: none !important; }` so we also need the `!important` here to be able to override the default hidden behavior on the sphinx rendered scikit-learn.org. See: https://github.com/scikit-learn/scikit-learn/issues/21755 */display: inline-block !important;position: relative;}#sk-container-id-1 div.sk-text-repr-fallback {display: none;}</style><div id=\"sk-container-id-1\" class=\"sk-top-container\"><div class=\"sk-text-repr-fallback\"><pre>DecisionTreeClassifier(random_state=3774)</pre><b>In a Jupyter environment, please rerun this cell to show the HTML representation or trust the notebook. <br />On GitHub, the HTML representation is unable to render, please try loading this page with nbviewer.org.</b></div><div class=\"sk-container\" hidden><div class=\"sk-item\"><div class=\"sk-estimator sk-toggleable\"><input class=\"sk-toggleable__control sk-hidden--visually\" id=\"sk-estimator-id-1\" type=\"checkbox\" checked><label for=\"sk-estimator-id-1\" class=\"sk-toggleable__label sk-toggleable__label-arrow\">DecisionTreeClassifier</label><div class=\"sk-toggleable__content\"><pre>DecisionTreeClassifier(random_state=3774)</pre></div></div></div></div></div>"
            ]
          },
          "metadata": {},
          "execution_count": 14
        }
      ]
    },
    {
      "cell_type": "code",
      "source": [
        "importances = {}\n",
        "importanceList = FeatImportanceTree.feature_importances_\n",
        "for feat, value in enumerate(importanceList):\n",
        "  importances[X_train.columns[feat]] = np.round(value, 5)\n",
        "sort_importances = sorted(importances.items(), key=lambda k: k[1], reverse=True)\n",
        "pprint.pprint(sort_importances)"
      ],
      "metadata": {
        "colab": {
          "base_uri": "https://localhost:8080/"
        },
        "id": "ICph-eiYU01t",
        "outputId": "b52059a2-5645-4c98-f943-313345c5e9c7"
      },
      "execution_count": null,
      "outputs": [
        {
          "output_type": "stream",
          "name": "stdout",
          "text": [
            "[(' Fwd Packet Length Max', 0.57263),\n",
            " (' Subflow Fwd Bytes', 0.42087),\n",
            " ('Init_Win_bytes_forward', 0.00218),\n",
            " (' Destination Port', 0.00129),\n",
            " (' Bwd Packet Length Min', 0.00087),\n",
            " (' Init_Win_bytes_backward', 0.00067),\n",
            " ('Subflow Fwd Packets', 0.0003),\n",
            " (' Bwd Header Length', 0.00029),\n",
            " ('FIN Flag Count', 0.00019),\n",
            " (' Bwd Packets/s', 0.00018),\n",
            " (' Flow IAT Min', 0.00014),\n",
            " (' Fwd Packet Length Std', 0.0001),\n",
            " ('Fwd Packets/s', 9e-05),\n",
            " (' ACK Flag Count', 5e-05),\n",
            " (' Flow IAT Mean', 4e-05),\n",
            " (' Fwd IAT Mean', 4e-05),\n",
            " (' URG Flag Count', 4e-05),\n",
            " (' Fwd IAT Max', 2e-05),\n",
            " ('Flow Bytes/s', 1e-05),\n",
            " (' Flow Duration', 0.0),\n",
            " (' Total Fwd Packets', 0.0),\n",
            " (' Total Backward Packets', 0.0),\n",
            " ('Total Length of Fwd Packets', 0.0),\n",
            " (' Total Length of Bwd Packets', 0.0),\n",
            " (' Fwd Packet Length Min', 0.0),\n",
            " (' Fwd Packet Length Mean', 0.0),\n",
            " ('Bwd Packet Length Max', 0.0),\n",
            " (' Bwd Packet Length Mean', 0.0),\n",
            " (' Bwd Packet Length Std', 0.0),\n",
            " (' Flow Packets/s', 0.0),\n",
            " (' Flow IAT Std', 0.0),\n",
            " (' Flow IAT Max', 0.0),\n",
            " ('Fwd IAT Total', 0.0),\n",
            " (' Fwd IAT Std', 0.0),\n",
            " (' Fwd IAT Min', 0.0),\n",
            " ('Bwd IAT Total', 0.0),\n",
            " (' Bwd IAT Mean', 0.0),\n",
            " (' Bwd IAT Std', 0.0),\n",
            " (' Bwd IAT Max', 0.0),\n",
            " (' Bwd IAT Min', 0.0),\n",
            " ('Fwd PSH Flags', 0.0),\n",
            " (' Bwd PSH Flags', 0.0),\n",
            " (' Fwd URG Flags', 0.0),\n",
            " (' Bwd URG Flags', 0.0),\n",
            " (' Fwd Header Length', 0.0),\n",
            " (' Min Packet Length', 0.0),\n",
            " (' Max Packet Length', 0.0),\n",
            " (' Packet Length Mean', 0.0),\n",
            " (' Packet Length Std', 0.0),\n",
            " (' Packet Length Variance', 0.0),\n",
            " (' SYN Flag Count', 0.0),\n",
            " (' RST Flag Count', 0.0),\n",
            " (' PSH Flag Count', 0.0),\n",
            " (' CWE Flag Count', 0.0),\n",
            " (' ECE Flag Count', 0.0),\n",
            " (' Down/Up Ratio', 0.0),\n",
            " (' Average Packet Size', 0.0),\n",
            " (' Avg Fwd Segment Size', 0.0),\n",
            " (' Avg Bwd Segment Size', 0.0),\n",
            " (' Fwd Header Length.1', 0.0),\n",
            " ('Fwd Avg Bytes/Bulk', 0.0),\n",
            " (' Fwd Avg Packets/Bulk', 0.0),\n",
            " (' Fwd Avg Bulk Rate', 0.0),\n",
            " (' Bwd Avg Bytes/Bulk', 0.0),\n",
            " (' Bwd Avg Packets/Bulk', 0.0),\n",
            " ('Bwd Avg Bulk Rate', 0.0),\n",
            " (' Subflow Bwd Packets', 0.0),\n",
            " (' Subflow Bwd Bytes', 0.0),\n",
            " (' act_data_pkt_fwd', 0.0),\n",
            " (' min_seg_size_forward', 0.0),\n",
            " ('Active Mean', 0.0),\n",
            " (' Active Std', 0.0),\n",
            " (' Active Max', 0.0),\n",
            " (' Active Min', 0.0),\n",
            " ('Idle Mean', 0.0),\n",
            " (' Idle Std', 0.0),\n",
            " (' Idle Max', 0.0),\n",
            " (' Idle Min', 0.0)]\n"
          ]
        }
      ]
    },
    {
      "cell_type": "markdown",
      "source": [
        "second attempt is a Random Forest classifier (multiple decision trees in an ensemble)"
      ],
      "metadata": {
        "id": "mhR9WvmREf6V"
      }
    },
    {
      "cell_type": "code",
      "source": [
        "FeatImportanceForest = RandomForestClassifier(criterion='gini', random_state=random.randint(0,10000))\n",
        "FeatImportanceForest.fit(X_train, y_train)"
      ],
      "metadata": {
        "id": "eEllZ89IEfUd",
        "colab": {
          "base_uri": "https://localhost:8080/",
          "height": 74
        },
        "outputId": "4e2e8300-d05a-437b-b8a1-1b8a00646e57"
      },
      "execution_count": null,
      "outputs": [
        {
          "output_type": "execute_result",
          "data": {
            "text/plain": [
              "RandomForestClassifier(random_state=9350)"
            ],
            "text/html": [
              "<style>#sk-container-id-2 {color: black;background-color: white;}#sk-container-id-2 pre{padding: 0;}#sk-container-id-2 div.sk-toggleable {background-color: white;}#sk-container-id-2 label.sk-toggleable__label {cursor: pointer;display: block;width: 100%;margin-bottom: 0;padding: 0.3em;box-sizing: border-box;text-align: center;}#sk-container-id-2 label.sk-toggleable__label-arrow:before {content: \"▸\";float: left;margin-right: 0.25em;color: #696969;}#sk-container-id-2 label.sk-toggleable__label-arrow:hover:before {color: black;}#sk-container-id-2 div.sk-estimator:hover label.sk-toggleable__label-arrow:before {color: black;}#sk-container-id-2 div.sk-toggleable__content {max-height: 0;max-width: 0;overflow: hidden;text-align: left;background-color: #f0f8ff;}#sk-container-id-2 div.sk-toggleable__content pre {margin: 0.2em;color: black;border-radius: 0.25em;background-color: #f0f8ff;}#sk-container-id-2 input.sk-toggleable__control:checked~div.sk-toggleable__content {max-height: 200px;max-width: 100%;overflow: auto;}#sk-container-id-2 input.sk-toggleable__control:checked~label.sk-toggleable__label-arrow:before {content: \"▾\";}#sk-container-id-2 div.sk-estimator input.sk-toggleable__control:checked~label.sk-toggleable__label {background-color: #d4ebff;}#sk-container-id-2 div.sk-label input.sk-toggleable__control:checked~label.sk-toggleable__label {background-color: #d4ebff;}#sk-container-id-2 input.sk-hidden--visually {border: 0;clip: rect(1px 1px 1px 1px);clip: rect(1px, 1px, 1px, 1px);height: 1px;margin: -1px;overflow: hidden;padding: 0;position: absolute;width: 1px;}#sk-container-id-2 div.sk-estimator {font-family: monospace;background-color: #f0f8ff;border: 1px dotted black;border-radius: 0.25em;box-sizing: border-box;margin-bottom: 0.5em;}#sk-container-id-2 div.sk-estimator:hover {background-color: #d4ebff;}#sk-container-id-2 div.sk-parallel-item::after {content: \"\";width: 100%;border-bottom: 1px solid gray;flex-grow: 1;}#sk-container-id-2 div.sk-label:hover label.sk-toggleable__label {background-color: #d4ebff;}#sk-container-id-2 div.sk-serial::before {content: \"\";position: absolute;border-left: 1px solid gray;box-sizing: border-box;top: 0;bottom: 0;left: 50%;z-index: 0;}#sk-container-id-2 div.sk-serial {display: flex;flex-direction: column;align-items: center;background-color: white;padding-right: 0.2em;padding-left: 0.2em;position: relative;}#sk-container-id-2 div.sk-item {position: relative;z-index: 1;}#sk-container-id-2 div.sk-parallel {display: flex;align-items: stretch;justify-content: center;background-color: white;position: relative;}#sk-container-id-2 div.sk-item::before, #sk-container-id-2 div.sk-parallel-item::before {content: \"\";position: absolute;border-left: 1px solid gray;box-sizing: border-box;top: 0;bottom: 0;left: 50%;z-index: -1;}#sk-container-id-2 div.sk-parallel-item {display: flex;flex-direction: column;z-index: 1;position: relative;background-color: white;}#sk-container-id-2 div.sk-parallel-item:first-child::after {align-self: flex-end;width: 50%;}#sk-container-id-2 div.sk-parallel-item:last-child::after {align-self: flex-start;width: 50%;}#sk-container-id-2 div.sk-parallel-item:only-child::after {width: 0;}#sk-container-id-2 div.sk-dashed-wrapped {border: 1px dashed gray;margin: 0 0.4em 0.5em 0.4em;box-sizing: border-box;padding-bottom: 0.4em;background-color: white;}#sk-container-id-2 div.sk-label label {font-family: monospace;font-weight: bold;display: inline-block;line-height: 1.2em;}#sk-container-id-2 div.sk-label-container {text-align: center;}#sk-container-id-2 div.sk-container {/* jupyter's `normalize.less` sets `[hidden] { display: none; }` but bootstrap.min.css set `[hidden] { display: none !important; }` so we also need the `!important` here to be able to override the default hidden behavior on the sphinx rendered scikit-learn.org. See: https://github.com/scikit-learn/scikit-learn/issues/21755 */display: inline-block !important;position: relative;}#sk-container-id-2 div.sk-text-repr-fallback {display: none;}</style><div id=\"sk-container-id-2\" class=\"sk-top-container\"><div class=\"sk-text-repr-fallback\"><pre>RandomForestClassifier(random_state=9350)</pre><b>In a Jupyter environment, please rerun this cell to show the HTML representation or trust the notebook. <br />On GitHub, the HTML representation is unable to render, please try loading this page with nbviewer.org.</b></div><div class=\"sk-container\" hidden><div class=\"sk-item\"><div class=\"sk-estimator sk-toggleable\"><input class=\"sk-toggleable__control sk-hidden--visually\" id=\"sk-estimator-id-2\" type=\"checkbox\" checked><label for=\"sk-estimator-id-2\" class=\"sk-toggleable__label sk-toggleable__label-arrow\">RandomForestClassifier</label><div class=\"sk-toggleable__content\"><pre>RandomForestClassifier(random_state=9350)</pre></div></div></div></div></div>"
            ]
          },
          "metadata": {},
          "execution_count": 16
        }
      ]
    },
    {
      "cell_type": "code",
      "source": [
        "importanceList = {}\n",
        "importanceList = FeatImportanceForest.feature_importances_\n",
        "for feat, value in enumerate(importanceList):\n",
        "  importances[X_train.columns[feat]] = np.round(value, 5)\n",
        "sort_importances = sorted(importances.items(), key=lambda k: k[1], reverse=True)\n",
        "pprint.pprint(sort_importances)"
      ],
      "metadata": {
        "colab": {
          "base_uri": "https://localhost:8080/"
        },
        "id": "hqsADK602Viz",
        "outputId": "46bb0e31-5459-4d98-927f-6c6cdf2350e1"
      },
      "execution_count": null,
      "outputs": [
        {
          "output_type": "stream",
          "name": "stdout",
          "text": [
            "[(' Fwd Packet Length Max', 0.11018),\n",
            " (' Avg Fwd Segment Size', 0.08445),\n",
            " (' Fwd Packet Length Mean', 0.08101),\n",
            " ('Total Length of Fwd Packets', 0.08076),\n",
            " ('Subflow Fwd Packets', 0.06945),\n",
            " (' Subflow Fwd Bytes', 0.0554),\n",
            " ('Fwd IAT Total', 0.04322),\n",
            " (' act_data_pkt_fwd', 0.04239),\n",
            " (' Fwd Header Length.1', 0.04169),\n",
            " ('Init_Win_bytes_forward', 0.04099),\n",
            " (' Fwd IAT Std', 0.03681),\n",
            " (' Fwd Header Length', 0.02729),\n",
            " (' Total Fwd Packets', 0.02358),\n",
            " (' Fwd IAT Max', 0.01797),\n",
            " (' Subflow Bwd Bytes', 0.01721),\n",
            " (' Bwd Header Length', 0.01688),\n",
            " (' Fwd IAT Mean', 0.01685),\n",
            " (' Destination Port', 0.01673),\n",
            " (' Average Packet Size', 0.01503),\n",
            " (' Bwd Packet Length Min', 0.01298),\n",
            " (' Init_Win_bytes_backward', 0.01164),\n",
            " ('Bwd Packet Length Max', 0.01019),\n",
            " (' Packet Length Mean', 0.00918),\n",
            " (' Flow IAT Std', 0.00859),\n",
            " (' Avg Bwd Segment Size', 0.00857),\n",
            " (' Bwd IAT Mean', 0.00841),\n",
            " (' Bwd Packet Length Mean', 0.00801),\n",
            " (' Subflow Bwd Packets', 0.00797),\n",
            " (' Bwd IAT Std', 0.00765),\n",
            " (' Min Packet Length', 0.00625),\n",
            " (' Max Packet Length', 0.00623),\n",
            " (' Bwd Packet Length Std', 0.00611),\n",
            " (' Fwd Packet Length Std', 0.0045),\n",
            " (' Bwd Packets/s', 0.00439),\n",
            " (' Bwd IAT Max', 0.0042),\n",
            " (' Total Backward Packets', 0.00414),\n",
            " ('Bwd IAT Total', 0.00405),\n",
            " (' Flow Packets/s', 0.00336),\n",
            " (' Total Length of Bwd Packets', 0.00334),\n",
            " (' Down/Up Ratio', 0.00296),\n",
            " (' Bwd IAT Min', 0.00283),\n",
            " (' URG Flag Count', 0.00275),\n",
            " (' Fwd Packet Length Min', 0.00253),\n",
            " (' Flow IAT Max', 0.00224),\n",
            " (' min_seg_size_forward', 0.00162),\n",
            " (' Fwd IAT Min', 0.00143),\n",
            " ('Fwd Packets/s', 0.0014),\n",
            " (' Flow IAT Min', 0.00132),\n",
            " (' Packet Length Variance', 0.00102),\n",
            " (' Packet Length Std', 0.00094),\n",
            " (' Flow Duration', 0.00035),\n",
            " (' Flow IAT Mean', 0.00016),\n",
            " ('Flow Bytes/s', 0.00011),\n",
            " (' Active Max', 0.00011),\n",
            " (' ACK Flag Count', 0.0001),\n",
            " ('FIN Flag Count', 9e-05),\n",
            " (' Active Std', 8e-05),\n",
            " (' Idle Min', 8e-05),\n",
            " ('Idle Mean', 7e-05),\n",
            " (' Idle Max', 5e-05),\n",
            " (' SYN Flag Count', 4e-05),\n",
            " (' PSH Flag Count', 2e-05),\n",
            " (' Idle Std', 2e-05),\n",
            " ('Active Mean', 1e-05),\n",
            " (' Active Min', 1e-05),\n",
            " ('Fwd PSH Flags', 0.0),\n",
            " (' Bwd PSH Flags', 0.0),\n",
            " (' Fwd URG Flags', 0.0),\n",
            " (' Bwd URG Flags', 0.0),\n",
            " (' RST Flag Count', 0.0),\n",
            " (' CWE Flag Count', 0.0),\n",
            " (' ECE Flag Count', 0.0),\n",
            " ('Fwd Avg Bytes/Bulk', 0.0),\n",
            " (' Fwd Avg Packets/Bulk', 0.0),\n",
            " (' Fwd Avg Bulk Rate', 0.0),\n",
            " (' Bwd Avg Bytes/Bulk', 0.0),\n",
            " (' Bwd Avg Packets/Bulk', 0.0),\n",
            " ('Bwd Avg Bulk Rate', 0.0)]\n"
          ]
        }
      ]
    },
    {
      "cell_type": "markdown",
      "source": [
        "\n",
        "In the paper the researchers chose all features with a value above $t=0.02$."
      ],
      "metadata": {
        "id": "Tm27heJv3DXK"
      }
    },
    {
      "cell_type": "code",
      "source": [
        "#select important features\n",
        "imp_feature_list = []\n",
        "for feat in enumerate(sort_importances):\n",
        "  if feat[1][1] > 0.02:\n",
        "    imp_feature_list.append(feat[1][0])\n",
        "pprint.pprint(imp_feature_list)"
      ],
      "metadata": {
        "colab": {
          "base_uri": "https://localhost:8080/"
        },
        "id": "ZrWGoDX23Z7n",
        "outputId": "baf386ac-f555-4909-e815-aa4b3bfa4c5c"
      },
      "execution_count": null,
      "outputs": [
        {
          "output_type": "stream",
          "name": "stdout",
          "text": [
            "[' Fwd Packet Length Max',\n",
            " ' Avg Fwd Segment Size',\n",
            " ' Fwd Packet Length Mean',\n",
            " 'Total Length of Fwd Packets',\n",
            " 'Subflow Fwd Packets',\n",
            " ' Subflow Fwd Bytes',\n",
            " 'Fwd IAT Total',\n",
            " ' act_data_pkt_fwd',\n",
            " ' Fwd Header Length.1',\n",
            " 'Init_Win_bytes_forward',\n",
            " ' Fwd IAT Std',\n",
            " ' Fwd Header Length',\n",
            " ' Total Fwd Packets']\n"
          ]
        }
      ]
    },
    {
      "cell_type": "markdown",
      "source": [
        "We see that the amount of importance features is slightly larger (16) than for the original dataset (14)"
      ],
      "metadata": {
        "id": "BtwoC96I5tTC"
      }
    },
    {
      "cell_type": "markdown",
      "source": [
        "### Designing the decision tree"
      ],
      "metadata": {
        "id": "yZJ7ayhYMhg_"
      }
    },
    {
      "cell_type": "code",
      "source": [
        "IDT_DS_x = X_train[imp_feature_list]\n",
        "IDTTree = DecisionTreeClassifier(criterion='gini', random_state=random.randint(0,10000))"
      ],
      "metadata": {
        "id": "q9vXmEtKMqs2"
      },
      "execution_count": null,
      "outputs": []
    },
    {
      "cell_type": "code",
      "source": [
        "cross_val_score(IDTTree, IDT_DS_x, y_train, cv=10)"
      ],
      "metadata": {
        "colab": {
          "base_uri": "https://localhost:8080/"
        },
        "id": "wSYQFXx2GPH9",
        "outputId": "ad886c5a-a800-423c-9e31-9b26cea7e1f6"
      },
      "execution_count": null,
      "outputs": [
        {
          "output_type": "execute_result",
          "data": {
            "text/plain": [
              "array([0.99950158, 0.99928006, 0.99955696, 0.99966772, 0.99955696,\n",
              "       0.9994462 , 0.9994462 , 0.99955696, 0.99950155, 0.99961232])"
            ]
          },
          "metadata": {},
          "execution_count": 20
        }
      ]
    },
    {
      "cell_type": "code",
      "source": [
        "IDTForest = RandomForestClassifier(criterion='gini', random_state=random.randint(0,10000))\n",
        "IDTForest.fit(IDT_DS_x, y_train)"
      ],
      "metadata": {
        "colab": {
          "base_uri": "https://localhost:8080/",
          "height": 74
        },
        "id": "bX74VL7HHCll",
        "outputId": "16fd34d0-2756-4cb9-89f1-9a67ce554b5c"
      },
      "execution_count": null,
      "outputs": [
        {
          "output_type": "execute_result",
          "data": {
            "text/plain": [
              "RandomForestClassifier(random_state=8476)"
            ],
            "text/html": [
              "<style>#sk-container-id-3 {color: black;background-color: white;}#sk-container-id-3 pre{padding: 0;}#sk-container-id-3 div.sk-toggleable {background-color: white;}#sk-container-id-3 label.sk-toggleable__label {cursor: pointer;display: block;width: 100%;margin-bottom: 0;padding: 0.3em;box-sizing: border-box;text-align: center;}#sk-container-id-3 label.sk-toggleable__label-arrow:before {content: \"▸\";float: left;margin-right: 0.25em;color: #696969;}#sk-container-id-3 label.sk-toggleable__label-arrow:hover:before {color: black;}#sk-container-id-3 div.sk-estimator:hover label.sk-toggleable__label-arrow:before {color: black;}#sk-container-id-3 div.sk-toggleable__content {max-height: 0;max-width: 0;overflow: hidden;text-align: left;background-color: #f0f8ff;}#sk-container-id-3 div.sk-toggleable__content pre {margin: 0.2em;color: black;border-radius: 0.25em;background-color: #f0f8ff;}#sk-container-id-3 input.sk-toggleable__control:checked~div.sk-toggleable__content {max-height: 200px;max-width: 100%;overflow: auto;}#sk-container-id-3 input.sk-toggleable__control:checked~label.sk-toggleable__label-arrow:before {content: \"▾\";}#sk-container-id-3 div.sk-estimator input.sk-toggleable__control:checked~label.sk-toggleable__label {background-color: #d4ebff;}#sk-container-id-3 div.sk-label input.sk-toggleable__control:checked~label.sk-toggleable__label {background-color: #d4ebff;}#sk-container-id-3 input.sk-hidden--visually {border: 0;clip: rect(1px 1px 1px 1px);clip: rect(1px, 1px, 1px, 1px);height: 1px;margin: -1px;overflow: hidden;padding: 0;position: absolute;width: 1px;}#sk-container-id-3 div.sk-estimator {font-family: monospace;background-color: #f0f8ff;border: 1px dotted black;border-radius: 0.25em;box-sizing: border-box;margin-bottom: 0.5em;}#sk-container-id-3 div.sk-estimator:hover {background-color: #d4ebff;}#sk-container-id-3 div.sk-parallel-item::after {content: \"\";width: 100%;border-bottom: 1px solid gray;flex-grow: 1;}#sk-container-id-3 div.sk-label:hover label.sk-toggleable__label {background-color: #d4ebff;}#sk-container-id-3 div.sk-serial::before {content: \"\";position: absolute;border-left: 1px solid gray;box-sizing: border-box;top: 0;bottom: 0;left: 50%;z-index: 0;}#sk-container-id-3 div.sk-serial {display: flex;flex-direction: column;align-items: center;background-color: white;padding-right: 0.2em;padding-left: 0.2em;position: relative;}#sk-container-id-3 div.sk-item {position: relative;z-index: 1;}#sk-container-id-3 div.sk-parallel {display: flex;align-items: stretch;justify-content: center;background-color: white;position: relative;}#sk-container-id-3 div.sk-item::before, #sk-container-id-3 div.sk-parallel-item::before {content: \"\";position: absolute;border-left: 1px solid gray;box-sizing: border-box;top: 0;bottom: 0;left: 50%;z-index: -1;}#sk-container-id-3 div.sk-parallel-item {display: flex;flex-direction: column;z-index: 1;position: relative;background-color: white;}#sk-container-id-3 div.sk-parallel-item:first-child::after {align-self: flex-end;width: 50%;}#sk-container-id-3 div.sk-parallel-item:last-child::after {align-self: flex-start;width: 50%;}#sk-container-id-3 div.sk-parallel-item:only-child::after {width: 0;}#sk-container-id-3 div.sk-dashed-wrapped {border: 1px dashed gray;margin: 0 0.4em 0.5em 0.4em;box-sizing: border-box;padding-bottom: 0.4em;background-color: white;}#sk-container-id-3 div.sk-label label {font-family: monospace;font-weight: bold;display: inline-block;line-height: 1.2em;}#sk-container-id-3 div.sk-label-container {text-align: center;}#sk-container-id-3 div.sk-container {/* jupyter's `normalize.less` sets `[hidden] { display: none; }` but bootstrap.min.css set `[hidden] { display: none !important; }` so we also need the `!important` here to be able to override the default hidden behavior on the sphinx rendered scikit-learn.org. See: https://github.com/scikit-learn/scikit-learn/issues/21755 */display: inline-block !important;position: relative;}#sk-container-id-3 div.sk-text-repr-fallback {display: none;}</style><div id=\"sk-container-id-3\" class=\"sk-top-container\"><div class=\"sk-text-repr-fallback\"><pre>RandomForestClassifier(random_state=8476)</pre><b>In a Jupyter environment, please rerun this cell to show the HTML representation or trust the notebook. <br />On GitHub, the HTML representation is unable to render, please try loading this page with nbviewer.org.</b></div><div class=\"sk-container\" hidden><div class=\"sk-item\"><div class=\"sk-estimator sk-toggleable\"><input class=\"sk-toggleable__control sk-hidden--visually\" id=\"sk-estimator-id-3\" type=\"checkbox\" checked><label for=\"sk-estimator-id-3\" class=\"sk-toggleable__label sk-toggleable__label-arrow\">RandomForestClassifier</label><div class=\"sk-toggleable__content\"><pre>RandomForestClassifier(random_state=8476)</pre></div></div></div></div></div>"
            ]
          },
          "metadata": {},
          "execution_count": 21
        }
      ]
    },
    {
      "cell_type": "markdown",
      "source": [
        "### Experimental results"
      ],
      "metadata": {
        "id": "LKpGHhEZMoOw"
      }
    },
    {
      "cell_type": "markdown",
      "source": [
        "### IntruDTree\n",
        "\n",
        "Comparable good results as for original dataset"
      ],
      "metadata": {
        "id": "eS97UzuhVmY0"
      }
    },
    {
      "cell_type": "code",
      "source": [
        "y_pred = IDTForest.predict(X_test[imp_feature_list])\n",
        "print(\"Accuracy of Random Forest:\", accuracy_score(y_test, y_pred))\n",
        "print(\"Precision of Random Forest:\", precision_score(y_test, y_pred,pos_label='DDoS'))\n",
        "print(\"Recall of Random Forest:\", recall_score(y_test, y_pred,pos_label='DDoS'))\n",
        "print(\"Fscore of Random Forest:\", f1_score(y_test, y_pred,pos_label='DDoS'))"
      ],
      "metadata": {
        "colab": {
          "base_uri": "https://localhost:8080/"
        },
        "id": "AOOUBlKOHk4j",
        "outputId": "184697ec-f54f-4b34-e598-379fc4a515fb"
      },
      "execution_count": null,
      "outputs": [
        {
          "output_type": "stream",
          "name": "stdout",
          "text": [
            "Accuracy of Random Forest: 0.9996012670845978\n",
            "Precision of Random Forest: 0.9996486433730236\n",
            "Recall of Random Forest: 0.9996486433730236\n",
            "Fscore of Random Forest: 0.9996486433730236\n"
          ]
        }
      ]
    },
    {
      "cell_type": "code",
      "source": [
        "confMatrix = confusion_matrix(y_test, y_pred)\n",
        "ConfusionMatrixDisplay(confusion_matrix=confMatrix).plot()"
      ],
      "metadata": {
        "colab": {
          "base_uri": "https://localhost:8080/",
          "height": 467
        },
        "id": "AZ7JO7XkIXDI",
        "outputId": "a01c12fb-c1c7-4f92-e2e2-2472bf710bdb"
      },
      "execution_count": null,
      "outputs": [
        {
          "output_type": "execute_result",
          "data": {
            "text/plain": [
              "<sklearn.metrics._plot.confusion_matrix.ConfusionMatrixDisplay at 0x7a8d9872eda0>"
            ]
          },
          "metadata": {},
          "execution_count": 23
        },
        {
          "output_type": "display_data",
          "data": {
            "text/plain": [
              "<Figure size 640x480 with 2 Axes>"
            ],
            "image/png": "[encoded data removed]"
          },
          "metadata": {}
        }
      ]
    },
    {
      "cell_type": "code",
      "source": [
        "y_pred"
      ],
      "metadata": {
        "colab": {
          "base_uri": "https://localhost:8080/"
        },
        "id": "5QAjCopYLX0q",
        "outputId": "62545725-8ce7-477c-c3e0-c6df6a5af53b"
      },
      "execution_count": null,
      "outputs": [
        {
          "output_type": "execute_result",
          "data": {
            "text/plain": [
              "array(['BENIGN', 'BENIGN', 'DDoS', ..., 'DDoS', 'BENIGN', 'DDoS'],\n",
              "      dtype=object)"
            ]
          },
          "metadata": {},
          "execution_count": 24
        }
      ]
    },
    {
      "cell_type": "code",
      "source": [
        "y_test = y_test.to_numpy()"
      ],
      "metadata": {
        "id": "uJeuYlFeMGuN"
      },
      "execution_count": null,
      "outputs": []
    },
    {
      "cell_type": "code",
      "source": [
        "traffic = {'BENIGN': 0, 'DDoS': 1}\n",
        "y_test_int = np.vectorize(traffic.get)(y_test)\n",
        "y_pred_int = np.vectorize(traffic.get)(y_pred)"
      ],
      "metadata": {
        "id": "g1s8I2uEM3B_"
      },
      "execution_count": null,
      "outputs": []
    },
    {
      "cell_type": "code",
      "source": [
        "y_test_int"
      ],
      "metadata": {
        "colab": {
          "base_uri": "https://localhost:8080/"
        },
        "id": "lBD315njNdlE",
        "outputId": "e565ff10-318b-4c48-d865-54f70bcc72ac"
      },
      "execution_count": null,
      "outputs": [
        {
          "output_type": "execute_result",
          "data": {
            "text/plain": [
              "array([0, 0, 1, ..., 1, 0, 1])"
            ]
          },
          "metadata": {},
          "execution_count": 27
        }
      ]
    },
    {
      "cell_type": "code",
      "source": [
        "y_pred_int"
      ],
      "metadata": {
        "colab": {
          "base_uri": "https://localhost:8080/"
        },
        "id": "KwjHMtFhNgzb",
        "outputId": "ec39f11f-bd9f-4dbe-ed8a-a22e8e13d46f"
      },
      "execution_count": null,
      "outputs": [
        {
          "output_type": "execute_result",
          "data": {
            "text/plain": [
              "array([0, 0, 1, ..., 1, 0, 1])"
            ]
          },
          "metadata": {},
          "execution_count": 28
        }
      ]
    },
    {
      "cell_type": "code",
      "source": [
        "fpr, tpr, thresholds = roc_curve(y_test_int, y_pred_int, pos_label=1)\n",
        "roc_auc = auc(fpr,tpr)\n",
        "display = RocCurveDisplay(fpr=fpr, tpr=tpr, roc_auc=roc_auc, estimator_name='IntruDTree model')\n",
        "display.plot()\n",
        "plt.show()"
      ],
      "metadata": {
        "id": "qPgC386UMkpa",
        "colab": {
          "base_uri": "https://localhost:8080/",
          "height": 449
        },
        "outputId": "52738570-8a31-4e4d-bfaf-d59b0e413d12"
      },
      "execution_count": null,
      "outputs": [
        {
          "output_type": "display_data",
          "data": {
            "text/plain": [
              "<Figure size 640x480 with 1 Axes>"
            ],
            "image/png": "[encoded data removed]"
          },
          "metadata": {}
        }
      ]
    },
    {
      "cell_type": "code",
      "source": [
        "print(roc_auc)"
      ],
      "metadata": {
        "colab": {
          "base_uri": "https://localhost:8080/"
        },
        "id": "wU0wZySvNryx",
        "outputId": "7367d365-b22d-4348-e76f-570e2ef9b603"
      },
      "execution_count": null,
      "outputs": [
        {
          "output_type": "stream",
          "name": "stdout",
          "text": [
            "0.9995938833415713\n"
          ]
        }
      ]
    },
    {
      "cell_type": "markdown",
      "source": [
        "### Logistic Regression"
      ],
      "metadata": {
        "id": "1be4l3chVpIK"
      }
    },
    {
      "cell_type": "markdown",
      "source": [
        "##  \n",
        "There are issues with the multicollinearity of features, I suggest we set up the correlation matrix and decide wich features to skip or use a different solver\n"
      ],
      "metadata": {
        "id": "30_G6w6PYdm-"
      }
    },
    {
      "cell_type": "code",
      "source": [
        "corr = IDT_DS_x.corr()\n",
        "corr.style.background_gradient(cmap='coolwarm')"
      ],
      "metadata": {
        "colab": {
          "base_uri": "https://localhost:8080/",
          "height": 526
        },
        "id": "emi03BxQYeaO",
        "outputId": "89ba7457-e5cf-4b59-ca01-e2546057d159"
      },
      "execution_count": null,
      "outputs": [
        {
          "output_type": "execute_result",
          "data": {
            "text/plain": [
              "<pandas.io.formats.style.Styler at 0x7a8d5ac990c0>"
            ],
            "text/html": [
              "<style type=\"text/css\">\n",
              "#T_a1c4d_row0_col0, #T_a1c4d_row1_col1, #T_a1c4d_row1_col2, #T_a1c4d_row2_col1, #T_a1c4d_row2_col2, #T_a1c4d_row3_col3, #T_a1c4d_row3_col5, #T_a1c4d_row4_col4, #T_a1c4d_row4_col12, #T_a1c4d_row5_col3, #T_a1c4d_row5_col5, #T_a1c4d_row6_col6, #T_a1c4d_row7_col7, #T_a1c4d_row8_col8, #T_a1c4d_row8_col11, #T_a1c4d_row9_col9, #T_a1c4d_row10_col10, #T_a1c4d_row11_col8, #T_a1c4d_row11_col11, #T_a1c4d_row12_col4, #T_a1c4d_row12_col12 {\n",
              "  background-color: #b40426;\n",
              "  color: #f1f1f1;\n",
              "}\n",
              "#T_a1c4d_row0_col1, #T_a1c4d_row0_col2, #T_a1c4d_row1_col0, #T_a1c4d_row2_col0 {\n",
              "  background-color: #ca3b37;\n",
              "  color: #f1f1f1;\n",
              "}\n",
              "#T_a1c4d_row0_col3, #T_a1c4d_row0_col5 {\n",
              "  background-color: #e57058;\n",
              "  color: #f1f1f1;\n",
              "}\n",
              "#T_a1c4d_row0_col4, #T_a1c4d_row0_col8, #T_a1c4d_row0_col11, #T_a1c4d_row0_col12 {\n",
              "  background-color: #4257c9;\n",
              "  color: #f1f1f1;\n",
              "}\n",
              "#T_a1c4d_row0_col6 {\n",
              "  background-color: #afcafc;\n",
              "  color: #000000;\n",
              "}\n",
              "#T_a1c4d_row0_col7 {\n",
              "  background-color: #4055c8;\n",
              "  color: #f1f1f1;\n",
              "}\n",
              "#T_a1c4d_row0_col9, #T_a1c4d_row6_col7 {\n",
              "  background-color: #7699f6;\n",
              "  color: #f1f1f1;\n",
              "}\n",
              "#T_a1c4d_row0_col10 {\n",
              "  background-color: #d9dce1;\n",
              "  color: #000000;\n",
              "}\n",
              "#T_a1c4d_row1_col3, #T_a1c4d_row1_col5, #T_a1c4d_row2_col3, #T_a1c4d_row2_col5 {\n",
              "  background-color: #e36c55;\n",
              "  color: #f1f1f1;\n",
              "}\n",
              "#T_a1c4d_row1_col4, #T_a1c4d_row1_col7, #T_a1c4d_row1_col8, #T_a1c4d_row1_col11, #T_a1c4d_row1_col12, #T_a1c4d_row2_col4, #T_a1c4d_row2_col7, #T_a1c4d_row2_col8, #T_a1c4d_row2_col11, #T_a1c4d_row2_col12, #T_a1c4d_row9_col0, #T_a1c4d_row9_col1, #T_a1c4d_row9_col2, #T_a1c4d_row9_col3, #T_a1c4d_row9_col5, #T_a1c4d_row9_col6, #T_a1c4d_row9_col10, #T_a1c4d_row10_col9 {\n",
              "  background-color: #3b4cc0;\n",
              "  color: #f1f1f1;\n",
              "}\n",
              "#T_a1c4d_row1_col6, #T_a1c4d_row2_col6 {\n",
              "  background-color: #a6c4fe;\n",
              "  color: #000000;\n",
              "}\n",
              "#T_a1c4d_row1_col9, #T_a1c4d_row2_col9 {\n",
              "  background-color: #6e90f2;\n",
              "  color: #f1f1f1;\n",
              "}\n",
              "#T_a1c4d_row1_col10, #T_a1c4d_row2_col10 {\n",
              "  background-color: #d4dbe6;\n",
              "  color: #000000;\n",
              "}\n",
              "#T_a1c4d_row3_col0, #T_a1c4d_row5_col0 {\n",
              "  background-color: #e46e56;\n",
              "  color: #f1f1f1;\n",
              "}\n",
              "#T_a1c4d_row3_col1, #T_a1c4d_row3_col2, #T_a1c4d_row5_col1, #T_a1c4d_row5_col2 {\n",
              "  background-color: #e26952;\n",
              "  color: #f1f1f1;\n",
              "}\n",
              "#T_a1c4d_row3_col4, #T_a1c4d_row3_col12, #T_a1c4d_row5_col4, #T_a1c4d_row5_col12 {\n",
              "  background-color: #6b8df0;\n",
              "  color: #f1f1f1;\n",
              "}\n",
              "#T_a1c4d_row3_col6, #T_a1c4d_row5_col6, #T_a1c4d_row10_col1, #T_a1c4d_row10_col2 {\n",
              "  background-color: #b5cdfa;\n",
              "  color: #000000;\n",
              "}\n",
              "#T_a1c4d_row3_col7, #T_a1c4d_row5_col7 {\n",
              "  background-color: #688aef;\n",
              "  color: #f1f1f1;\n",
              "}\n",
              "#T_a1c4d_row3_col8, #T_a1c4d_row3_col11, #T_a1c4d_row5_col8, #T_a1c4d_row5_col11 {\n",
              "  background-color: #6c8ff1;\n",
              "  color: #f1f1f1;\n",
              "}\n",
              "#T_a1c4d_row3_col9, #T_a1c4d_row5_col9 {\n",
              "  background-color: #7ea1fa;\n",
              "  color: #f1f1f1;\n",
              "}\n",
              "#T_a1c4d_row3_col10, #T_a1c4d_row5_col10 {\n",
              "  background-color: #d2dbe8;\n",
              "  color: #000000;\n",
              "}\n",
              "#T_a1c4d_row4_col0, #T_a1c4d_row4_col1, #T_a1c4d_row4_col2, #T_a1c4d_row8_col0, #T_a1c4d_row8_col1, #T_a1c4d_row8_col2, #T_a1c4d_row11_col0, #T_a1c4d_row11_col1, #T_a1c4d_row11_col2, #T_a1c4d_row12_col0, #T_a1c4d_row12_col1, #T_a1c4d_row12_col2 {\n",
              "  background-color: #3e51c5;\n",
              "  color: #f1f1f1;\n",
              "}\n",
              "#T_a1c4d_row4_col3, #T_a1c4d_row4_col5, #T_a1c4d_row12_col3, #T_a1c4d_row12_col5 {\n",
              "  background-color: #5f7fe8;\n",
              "  color: #f1f1f1;\n",
              "}\n",
              "#T_a1c4d_row4_col6, #T_a1c4d_row12_col6 {\n",
              "  background-color: #97b8ff;\n",
              "  color: #000000;\n",
              "}\n",
              "#T_a1c4d_row4_col7, #T_a1c4d_row7_col4, #T_a1c4d_row7_col12, #T_a1c4d_row12_col7 {\n",
              "  background-color: #d95847;\n",
              "  color: #f1f1f1;\n",
              "}\n",
              "#T_a1c4d_row4_col8, #T_a1c4d_row4_col11, #T_a1c4d_row8_col4, #T_a1c4d_row8_col12, #T_a1c4d_row11_col4, #T_a1c4d_row11_col12, #T_a1c4d_row12_col8, #T_a1c4d_row12_col11 {\n",
              "  background-color: #be242e;\n",
              "  color: #f1f1f1;\n",
              "}\n",
              "#T_a1c4d_row4_col9, #T_a1c4d_row6_col1, #T_a1c4d_row6_col2, #T_a1c4d_row12_col9 {\n",
              "  background-color: #8db0fe;\n",
              "  color: #000000;\n",
              "}\n",
              "#T_a1c4d_row4_col10, #T_a1c4d_row12_col10 {\n",
              "  background-color: #86a9fc;\n",
              "  color: #f1f1f1;\n",
              "}\n",
              "#T_a1c4d_row6_col0 {\n",
              "  background-color: #92b4fe;\n",
              "  color: #000000;\n",
              "}\n",
              "#T_a1c4d_row6_col3, #T_a1c4d_row6_col5, #T_a1c4d_row8_col6, #T_a1c4d_row11_col6 {\n",
              "  background-color: #90b2fe;\n",
              "  color: #000000;\n",
              "}\n",
              "#T_a1c4d_row6_col4, #T_a1c4d_row6_col12 {\n",
              "  background-color: #799cf8;\n",
              "  color: #f1f1f1;\n",
              "}\n",
              "#T_a1c4d_row6_col8, #T_a1c4d_row6_col11 {\n",
              "  background-color: #7295f4;\n",
              "  color: #f1f1f1;\n",
              "}\n",
              "#T_a1c4d_row6_col9 {\n",
              "  background-color: #516ddb;\n",
              "  color: #f1f1f1;\n",
              "}\n",
              "#T_a1c4d_row6_col10 {\n",
              "  background-color: #d1493f;\n",
              "  color: #f1f1f1;\n",
              "}\n",
              "#T_a1c4d_row7_col0 {\n",
              "  background-color: #3c4ec2;\n",
              "  color: #f1f1f1;\n",
              "}\n",
              "#T_a1c4d_row7_col1, #T_a1c4d_row7_col2 {\n",
              "  background-color: #3d50c3;\n",
              "  color: #f1f1f1;\n",
              "}\n",
              "#T_a1c4d_row7_col3, #T_a1c4d_row7_col5 {\n",
              "  background-color: #5b7ae5;\n",
              "  color: #f1f1f1;\n",
              "}\n",
              "#T_a1c4d_row7_col6 {\n",
              "  background-color: #93b5fe;\n",
              "  color: #000000;\n",
              "}\n",
              "#T_a1c4d_row7_col8, #T_a1c4d_row7_col11, #T_a1c4d_row8_col7, #T_a1c4d_row11_col7 {\n",
              "  background-color: #f08a6c;\n",
              "  color: #f1f1f1;\n",
              "}\n",
              "#T_a1c4d_row7_col9 {\n",
              "  background-color: #7a9df8;\n",
              "  color: #f1f1f1;\n",
              "}\n",
              "#T_a1c4d_row7_col10 {\n",
              "  background-color: #88abfd;\n",
              "  color: #000000;\n",
              "}\n",
              "#T_a1c4d_row8_col3, #T_a1c4d_row8_col5, #T_a1c4d_row11_col3, #T_a1c4d_row11_col5 {\n",
              "  background-color: #6180e9;\n",
              "  color: #f1f1f1;\n",
              "}\n",
              "#T_a1c4d_row8_col9, #T_a1c4d_row11_col9 {\n",
              "  background-color: #98b9ff;\n",
              "  color: #000000;\n",
              "}\n",
              "#T_a1c4d_row8_col10, #T_a1c4d_row11_col10 {\n",
              "  background-color: #82a6fb;\n",
              "  color: #f1f1f1;\n",
              "}\n",
              "#T_a1c4d_row9_col4, #T_a1c4d_row9_col12 {\n",
              "  background-color: #5673e0;\n",
              "  color: #f1f1f1;\n",
              "}\n",
              "#T_a1c4d_row9_col7 {\n",
              "  background-color: #4358cb;\n",
              "  color: #f1f1f1;\n",
              "}\n",
              "#T_a1c4d_row9_col8, #T_a1c4d_row9_col11 {\n",
              "  background-color: #6485ec;\n",
              "  color: #f1f1f1;\n",
              "}\n",
              "#T_a1c4d_row10_col0 {\n",
              "  background-color: #b6cefa;\n",
              "  color: #000000;\n",
              "}\n",
              "#T_a1c4d_row10_col3, #T_a1c4d_row10_col5 {\n",
              "  background-color: #a5c3fe;\n",
              "  color: #000000;\n",
              "}\n",
              "#T_a1c4d_row10_col4, #T_a1c4d_row10_col12 {\n",
              "  background-color: #506bda;\n",
              "  color: #f1f1f1;\n",
              "}\n",
              "#T_a1c4d_row10_col6 {\n",
              "  background-color: #d44e41;\n",
              "  color: #f1f1f1;\n",
              "}\n",
              "#T_a1c4d_row10_col7 {\n",
              "  background-color: #536edd;\n",
              "  color: #f1f1f1;\n",
              "}\n",
              "#T_a1c4d_row10_col8, #T_a1c4d_row10_col11 {\n",
              "  background-color: #4a63d3;\n",
              "  color: #f1f1f1;\n",
              "}\n",
              "</style>\n",
              "<table id=\"T_a1c4d\" class=\"dataframe\">\n",
              "  <thead>\n",
              "    <tr>\n",
              "      <th class=\"blank level0\" >&nbsp;</th>\n",
              "      <th id=\"T_a1c4d_level0_col0\" class=\"col_heading level0 col0\" > Fwd Packet Length Max</th>\n",
              "      <th id=\"T_a1c4d_level0_col1\" class=\"col_heading level0 col1\" > Avg Fwd Segment Size</th>\n",
              "      <th id=\"T_a1c4d_level0_col2\" class=\"col_heading level0 col2\" > Fwd Packet Length Mean</th>\n",
              "      <th id=\"T_a1c4d_level0_col3\" class=\"col_heading level0 col3\" >Total Length of Fwd Packets</th>\n",
              "      <th id=\"T_a1c4d_level0_col4\" class=\"col_heading level0 col4\" >Subflow Fwd Packets</th>\n",
              "      <th id=\"T_a1c4d_level0_col5\" class=\"col_heading level0 col5\" > Subflow Fwd Bytes</th>\n",
              "      <th id=\"T_a1c4d_level0_col6\" class=\"col_heading level0 col6\" >Fwd IAT Total</th>\n",
              "      <th id=\"T_a1c4d_level0_col7\" class=\"col_heading level0 col7\" > act_data_pkt_fwd</th>\n",
              "      <th id=\"T_a1c4d_level0_col8\" class=\"col_heading level0 col8\" > Fwd Header Length.1</th>\n",
              "      <th id=\"T_a1c4d_level0_col9\" class=\"col_heading level0 col9\" >Init_Win_bytes_forward</th>\n",
              "      <th id=\"T_a1c4d_level0_col10\" class=\"col_heading level0 col10\" > Fwd IAT Std</th>\n",
              "      <th id=\"T_a1c4d_level0_col11\" class=\"col_heading level0 col11\" > Fwd Header Length</th>\n",
              "      <th id=\"T_a1c4d_level0_col12\" class=\"col_heading level0 col12\" > Total Fwd Packets</th>\n",
              "    </tr>\n",
              "  </thead>\n",
              "  <tbody>\n",
              "    <tr>\n",
              "      <th id=\"T_a1c4d_level0_row0\" class=\"row_heading level0 row0\" > Fwd Packet Length Max</th>\n",
              "      <td id=\"T_a1c4d_row0_col0\" class=\"data row0 col0\" >1.000000</td>\n",
              "      <td id=\"T_a1c4d_row0_col1\" class=\"data row0 col1\" >0.940345</td>\n",
              "      <td id=\"T_a1c4d_row0_col2\" class=\"data row0 col2\" >0.940345</td>\n",
              "      <td id=\"T_a1c4d_row0_col3\" class=\"data row0 col3\" >0.851092</td>\n",
              "      <td id=\"T_a1c4d_row0_col4\" class=\"data row0 col4\" >0.042212</td>\n",
              "      <td id=\"T_a1c4d_row0_col5\" class=\"data row0 col5\" >0.851092</td>\n",
              "      <td id=\"T_a1c4d_row0_col6\" class=\"data row0 col6\" >0.285624</td>\n",
              "      <td id=\"T_a1c4d_row0_col7\" class=\"data row0 col7\" >0.036268</td>\n",
              "      <td id=\"T_a1c4d_row0_col8\" class=\"data row0 col8\" >0.041719</td>\n",
              "      <td id=\"T_a1c4d_row0_col9\" class=\"data row0 col9\" >0.029833</td>\n",
              "      <td id=\"T_a1c4d_row0_col10\" class=\"data row0 col10\" >0.389439</td>\n",
              "      <td id=\"T_a1c4d_row0_col11\" class=\"data row0 col11\" >0.041719</td>\n",
              "      <td id=\"T_a1c4d_row0_col12\" class=\"data row0 col12\" >0.042212</td>\n",
              "    </tr>\n",
              "    <tr>\n",
              "      <th id=\"T_a1c4d_level0_row1\" class=\"row_heading level0 row1\" > Avg Fwd Segment Size</th>\n",
              "      <td id=\"T_a1c4d_row1_col0\" class=\"data row1 col0\" >0.940345</td>\n",
              "      <td id=\"T_a1c4d_row1_col1\" class=\"data row1 col1\" >1.000000</td>\n",
              "      <td id=\"T_a1c4d_row1_col2\" class=\"data row1 col2\" >1.000000</td>\n",
              "      <td id=\"T_a1c4d_row1_col3\" class=\"data row1 col3\" >0.856653</td>\n",
              "      <td id=\"T_a1c4d_row1_col4\" class=\"data row1 col4\" >0.017606</td>\n",
              "      <td id=\"T_a1c4d_row1_col5\" class=\"data row1 col5\" >0.856653</td>\n",
              "      <td id=\"T_a1c4d_row1_col6\" class=\"data row1 col6\" >0.255468</td>\n",
              "      <td id=\"T_a1c4d_row1_col7\" class=\"data row1 col7\" >0.013541</td>\n",
              "      <td id=\"T_a1c4d_row1_col8\" class=\"data row1 col8\" >0.017462</td>\n",
              "      <td id=\"T_a1c4d_row1_col9\" class=\"data row1 col9\" >0.004161</td>\n",
              "      <td id=\"T_a1c4d_row1_col10\" class=\"data row1 col10\" >0.367192</td>\n",
              "      <td id=\"T_a1c4d_row1_col11\" class=\"data row1 col11\" >0.017462</td>\n",
              "      <td id=\"T_a1c4d_row1_col12\" class=\"data row1 col12\" >0.017606</td>\n",
              "    </tr>\n",
              "    <tr>\n",
              "      <th id=\"T_a1c4d_level0_row2\" class=\"row_heading level0 row2\" > Fwd Packet Length Mean</th>\n",
              "      <td id=\"T_a1c4d_row2_col0\" class=\"data row2 col0\" >0.940345</td>\n",
              "      <td id=\"T_a1c4d_row2_col1\" class=\"data row2 col1\" >1.000000</td>\n",
              "      <td id=\"T_a1c4d_row2_col2\" class=\"data row2 col2\" >1.000000</td>\n",
              "      <td id=\"T_a1c4d_row2_col3\" class=\"data row2 col3\" >0.856653</td>\n",
              "      <td id=\"T_a1c4d_row2_col4\" class=\"data row2 col4\" >0.017606</td>\n",
              "      <td id=\"T_a1c4d_row2_col5\" class=\"data row2 col5\" >0.856653</td>\n",
              "      <td id=\"T_a1c4d_row2_col6\" class=\"data row2 col6\" >0.255468</td>\n",
              "      <td id=\"T_a1c4d_row2_col7\" class=\"data row2 col7\" >0.013541</td>\n",
              "      <td id=\"T_a1c4d_row2_col8\" class=\"data row2 col8\" >0.017462</td>\n",
              "      <td id=\"T_a1c4d_row2_col9\" class=\"data row2 col9\" >0.004161</td>\n",
              "      <td id=\"T_a1c4d_row2_col10\" class=\"data row2 col10\" >0.367192</td>\n",
              "      <td id=\"T_a1c4d_row2_col11\" class=\"data row2 col11\" >0.017462</td>\n",
              "      <td id=\"T_a1c4d_row2_col12\" class=\"data row2 col12\" >0.017606</td>\n",
              "    </tr>\n",
              "    <tr>\n",
              "      <th id=\"T_a1c4d_level0_row3\" class=\"row_heading level0 row3\" >Total Length of Fwd Packets</th>\n",
              "      <td id=\"T_a1c4d_row3_col0\" class=\"data row3 col0\" >0.851092</td>\n",
              "      <td id=\"T_a1c4d_row3_col1\" class=\"data row3 col1\" >0.856653</td>\n",
              "      <td id=\"T_a1c4d_row3_col2\" class=\"data row3 col2\" >0.856653</td>\n",
              "      <td id=\"T_a1c4d_row3_col3\" class=\"data row3 col3\" >1.000000</td>\n",
              "      <td id=\"T_a1c4d_row3_col4\" class=\"data row3 col4\" >0.171006</td>\n",
              "      <td id=\"T_a1c4d_row3_col5\" class=\"data row3 col5\" >1.000000</td>\n",
              "      <td id=\"T_a1c4d_row3_col6\" class=\"data row3 col6\" >0.300972</td>\n",
              "      <td id=\"T_a1c4d_row3_col7\" class=\"data row3 col7\" >0.159454</td>\n",
              "      <td id=\"T_a1c4d_row3_col8\" class=\"data row3 col8\" >0.173069</td>\n",
              "      <td id=\"T_a1c4d_row3_col9\" class=\"data row3 col9\" >0.057972</td>\n",
              "      <td id=\"T_a1c4d_row3_col10\" class=\"data row3 col10\" >0.356266</td>\n",
              "      <td id=\"T_a1c4d_row3_col11\" class=\"data row3 col11\" >0.173069</td>\n",
              "      <td id=\"T_a1c4d_row3_col12\" class=\"data row3 col12\" >0.171006</td>\n",
              "    </tr>\n",
              "    <tr>\n",
              "      <th id=\"T_a1c4d_level0_row4\" class=\"row_heading level0 row4\" >Subflow Fwd Packets</th>\n",
              "      <td id=\"T_a1c4d_row4_col0\" class=\"data row4 col0\" >0.042212</td>\n",
              "      <td id=\"T_a1c4d_row4_col1\" class=\"data row4 col1\" >0.017606</td>\n",
              "      <td id=\"T_a1c4d_row4_col2\" class=\"data row4 col2\" >0.017606</td>\n",
              "      <td id=\"T_a1c4d_row4_col3\" class=\"data row4 col3\" >0.171006</td>\n",
              "      <td id=\"T_a1c4d_row4_col4\" class=\"data row4 col4\" >1.000000</td>\n",
              "      <td id=\"T_a1c4d_row4_col5\" class=\"data row4 col5\" >0.171006</td>\n",
              "      <td id=\"T_a1c4d_row4_col6\" class=\"data row4 col6\" >0.207829</td>\n",
              "      <td id=\"T_a1c4d_row4_col7\" class=\"data row4 col7\" >0.889887</td>\n",
              "      <td id=\"T_a1c4d_row4_col8\" class=\"data row4 col8\" >0.970121</td>\n",
              "      <td id=\"T_a1c4d_row4_col9\" class=\"data row4 col9\" >0.107313</td>\n",
              "      <td id=\"T_a1c4d_row4_col10\" class=\"data row4 col10\" >0.087258</td>\n",
              "      <td id=\"T_a1c4d_row4_col11\" class=\"data row4 col11\" >0.970121</td>\n",
              "      <td id=\"T_a1c4d_row4_col12\" class=\"data row4 col12\" >1.000000</td>\n",
              "    </tr>\n",
              "    <tr>\n",
              "      <th id=\"T_a1c4d_level0_row5\" class=\"row_heading level0 row5\" > Subflow Fwd Bytes</th>\n",
              "      <td id=\"T_a1c4d_row5_col0\" class=\"data row5 col0\" >0.851092</td>\n",
              "      <td id=\"T_a1c4d_row5_col1\" class=\"data row5 col1\" >0.856653</td>\n",
              "      <td id=\"T_a1c4d_row5_col2\" class=\"data row5 col2\" >0.856653</td>\n",
              "      <td id=\"T_a1c4d_row5_col3\" class=\"data row5 col3\" >1.000000</td>\n",
              "      <td id=\"T_a1c4d_row5_col4\" class=\"data row5 col4\" >0.171006</td>\n",
              "      <td id=\"T_a1c4d_row5_col5\" class=\"data row5 col5\" >1.000000</td>\n",
              "      <td id=\"T_a1c4d_row5_col6\" class=\"data row5 col6\" >0.300972</td>\n",
              "      <td id=\"T_a1c4d_row5_col7\" class=\"data row5 col7\" >0.159454</td>\n",
              "      <td id=\"T_a1c4d_row5_col8\" class=\"data row5 col8\" >0.173069</td>\n",
              "      <td id=\"T_a1c4d_row5_col9\" class=\"data row5 col9\" >0.057972</td>\n",
              "      <td id=\"T_a1c4d_row5_col10\" class=\"data row5 col10\" >0.356266</td>\n",
              "      <td id=\"T_a1c4d_row5_col11\" class=\"data row5 col11\" >0.173069</td>\n",
              "      <td id=\"T_a1c4d_row5_col12\" class=\"data row5 col12\" >0.171006</td>\n",
              "    </tr>\n",
              "    <tr>\n",
              "      <th id=\"T_a1c4d_level0_row6\" class=\"row_heading level0 row6\" >Fwd IAT Total</th>\n",
              "      <td id=\"T_a1c4d_row6_col0\" class=\"data row6 col0\" >0.285624</td>\n",
              "      <td id=\"T_a1c4d_row6_col1\" class=\"data row6 col1\" >0.255468</td>\n",
              "      <td id=\"T_a1c4d_row6_col2\" class=\"data row6 col2\" >0.255468</td>\n",
              "      <td id=\"T_a1c4d_row6_col3\" class=\"data row6 col3\" >0.300972</td>\n",
              "      <td id=\"T_a1c4d_row6_col4\" class=\"data row6 col4\" >0.207829</td>\n",
              "      <td id=\"T_a1c4d_row6_col5\" class=\"data row6 col5\" >0.300972</td>\n",
              "      <td id=\"T_a1c4d_row6_col6\" class=\"data row6 col6\" >1.000000</td>\n",
              "      <td id=\"T_a1c4d_row6_col7\" class=\"data row6 col7\" >0.196754</td>\n",
              "      <td id=\"T_a1c4d_row6_col8\" class=\"data row6 col8\" >0.187033</td>\n",
              "      <td id=\"T_a1c4d_row6_col9\" class=\"data row6 col9\" >-0.097944</td>\n",
              "      <td id=\"T_a1c4d_row6_col10\" class=\"data row6 col10\" >0.900072</td>\n",
              "      <td id=\"T_a1c4d_row6_col11\" class=\"data row6 col11\" >0.187033</td>\n",
              "      <td id=\"T_a1c4d_row6_col12\" class=\"data row6 col12\" >0.207829</td>\n",
              "    </tr>\n",
              "    <tr>\n",
              "      <th id=\"T_a1c4d_level0_row7\" class=\"row_heading level0 row7\" > act_data_pkt_fwd</th>\n",
              "      <td id=\"T_a1c4d_row7_col0\" class=\"data row7 col0\" >0.036268</td>\n",
              "      <td id=\"T_a1c4d_row7_col1\" class=\"data row7 col1\" >0.013541</td>\n",
              "      <td id=\"T_a1c4d_row7_col2\" class=\"data row7 col2\" >0.013541</td>\n",
              "      <td id=\"T_a1c4d_row7_col3\" class=\"data row7 col3\" >0.159454</td>\n",
              "      <td id=\"T_a1c4d_row7_col4\" class=\"data row7 col4\" >0.889887</td>\n",
              "      <td id=\"T_a1c4d_row7_col5\" class=\"data row7 col5\" >0.159454</td>\n",
              "      <td id=\"T_a1c4d_row7_col6\" class=\"data row7 col6\" >0.196754</td>\n",
              "      <td id=\"T_a1c4d_row7_col7\" class=\"data row7 col7\" >1.000000</td>\n",
              "      <td id=\"T_a1c4d_row7_col8\" class=\"data row7 col8\" >0.790757</td>\n",
              "      <td id=\"T_a1c4d_row7_col9\" class=\"data row7 col9\" >0.042446</td>\n",
              "      <td id=\"T_a1c4d_row7_col10\" class=\"data row7 col10\" >0.092133</td>\n",
              "      <td id=\"T_a1c4d_row7_col11\" class=\"data row7 col11\" >0.790757</td>\n",
              "      <td id=\"T_a1c4d_row7_col12\" class=\"data row7 col12\" >0.889887</td>\n",
              "    </tr>\n",
              "    <tr>\n",
              "      <th id=\"T_a1c4d_level0_row8\" class=\"row_heading level0 row8\" > Fwd Header Length.1</th>\n",
              "      <td id=\"T_a1c4d_row8_col0\" class=\"data row8 col0\" >0.041719</td>\n",
              "      <td id=\"T_a1c4d_row8_col1\" class=\"data row8 col1\" >0.017462</td>\n",
              "      <td id=\"T_a1c4d_row8_col2\" class=\"data row8 col2\" >0.017462</td>\n",
              "      <td id=\"T_a1c4d_row8_col3\" class=\"data row8 col3\" >0.173069</td>\n",
              "      <td id=\"T_a1c4d_row8_col4\" class=\"data row8 col4\" >0.970121</td>\n",
              "      <td id=\"T_a1c4d_row8_col5\" class=\"data row8 col5\" >0.173069</td>\n",
              "      <td id=\"T_a1c4d_row8_col6\" class=\"data row8 col6\" >0.187033</td>\n",
              "      <td id=\"T_a1c4d_row8_col7\" class=\"data row8 col7\" >0.790757</td>\n",
              "      <td id=\"T_a1c4d_row8_col8\" class=\"data row8 col8\" >1.000000</td>\n",
              "      <td id=\"T_a1c4d_row8_col9\" class=\"data row8 col9\" >0.148324</td>\n",
              "      <td id=\"T_a1c4d_row8_col10\" class=\"data row8 col10\" >0.071029</td>\n",
              "      <td id=\"T_a1c4d_row8_col11\" class=\"data row8 col11\" >1.000000</td>\n",
              "      <td id=\"T_a1c4d_row8_col12\" class=\"data row8 col12\" >0.970121</td>\n",
              "    </tr>\n",
              "    <tr>\n",
              "      <th id=\"T_a1c4d_level0_row9\" class=\"row_heading level0 row9\" >Init_Win_bytes_forward</th>\n",
              "      <td id=\"T_a1c4d_row9_col0\" class=\"data row9 col0\" >0.029833</td>\n",
              "      <td id=\"T_a1c4d_row9_col1\" class=\"data row9 col1\" >0.004161</td>\n",
              "      <td id=\"T_a1c4d_row9_col2\" class=\"data row9 col2\" >0.004161</td>\n",
              "      <td id=\"T_a1c4d_row9_col3\" class=\"data row9 col3\" >0.057972</td>\n",
              "      <td id=\"T_a1c4d_row9_col4\" class=\"data row9 col4\" >0.107313</td>\n",
              "      <td id=\"T_a1c4d_row9_col5\" class=\"data row9 col5\" >0.057972</td>\n",
              "      <td id=\"T_a1c4d_row9_col6\" class=\"data row9 col6\" >-0.097944</td>\n",
              "      <td id=\"T_a1c4d_row9_col7\" class=\"data row9 col7\" >0.042446</td>\n",
              "      <td id=\"T_a1c4d_row9_col8\" class=\"data row9 col8\" >0.148324</td>\n",
              "      <td id=\"T_a1c4d_row9_col9\" class=\"data row9 col9\" >1.000000</td>\n",
              "      <td id=\"T_a1c4d_row9_col10\" class=\"data row9 col10\" >-0.190787</td>\n",
              "      <td id=\"T_a1c4d_row9_col11\" class=\"data row9 col11\" >0.148324</td>\n",
              "      <td id=\"T_a1c4d_row9_col12\" class=\"data row9 col12\" >0.107313</td>\n",
              "    </tr>\n",
              "    <tr>\n",
              "      <th id=\"T_a1c4d_level0_row10\" class=\"row_heading level0 row10\" > Fwd IAT Std</th>\n",
              "      <td id=\"T_a1c4d_row10_col0\" class=\"data row10 col0\" >0.389439</td>\n",
              "      <td id=\"T_a1c4d_row10_col1\" class=\"data row10 col1\" >0.367192</td>\n",
              "      <td id=\"T_a1c4d_row10_col2\" class=\"data row10 col2\" >0.367192</td>\n",
              "      <td id=\"T_a1c4d_row10_col3\" class=\"data row10 col3\" >0.356266</td>\n",
              "      <td id=\"T_a1c4d_row10_col4\" class=\"data row10 col4\" >0.087258</td>\n",
              "      <td id=\"T_a1c4d_row10_col5\" class=\"data row10 col5\" >0.356266</td>\n",
              "      <td id=\"T_a1c4d_row10_col6\" class=\"data row10 col6\" >0.900072</td>\n",
              "      <td id=\"T_a1c4d_row10_col7\" class=\"data row10 col7\" >0.092133</td>\n",
              "      <td id=\"T_a1c4d_row10_col8\" class=\"data row10 col8\" >0.071029</td>\n",
              "      <td id=\"T_a1c4d_row10_col9\" class=\"data row10 col9\" >-0.190787</td>\n",
              "      <td id=\"T_a1c4d_row10_col10\" class=\"data row10 col10\" >1.000000</td>\n",
              "      <td id=\"T_a1c4d_row10_col11\" class=\"data row10 col11\" >0.071029</td>\n",
              "      <td id=\"T_a1c4d_row10_col12\" class=\"data row10 col12\" >0.087258</td>\n",
              "    </tr>\n",
              "    <tr>\n",
              "      <th id=\"T_a1c4d_level0_row11\" class=\"row_heading level0 row11\" > Fwd Header Length</th>\n",
              "      <td id=\"T_a1c4d_row11_col0\" class=\"data row11 col0\" >0.041719</td>\n",
              "      <td id=\"T_a1c4d_row11_col1\" class=\"data row11 col1\" >0.017462</td>\n",
              "      <td id=\"T_a1c4d_row11_col2\" class=\"data row11 col2\" >0.017462</td>\n",
              "      <td id=\"T_a1c4d_row11_col3\" class=\"data row11 col3\" >0.173069</td>\n",
              "      <td id=\"T_a1c4d_row11_col4\" class=\"data row11 col4\" >0.970121</td>\n",
              "      <td id=\"T_a1c4d_row11_col5\" class=\"data row11 col5\" >0.173069</td>\n",
              "      <td id=\"T_a1c4d_row11_col6\" class=\"data row11 col6\" >0.187033</td>\n",
              "      <td id=\"T_a1c4d_row11_col7\" class=\"data row11 col7\" >0.790757</td>\n",
              "      <td id=\"T_a1c4d_row11_col8\" class=\"data row11 col8\" >1.000000</td>\n",
              "      <td id=\"T_a1c4d_row11_col9\" class=\"data row11 col9\" >0.148324</td>\n",
              "      <td id=\"T_a1c4d_row11_col10\" class=\"data row11 col10\" >0.071029</td>\n",
              "      <td id=\"T_a1c4d_row11_col11\" class=\"data row11 col11\" >1.000000</td>\n",
              "      <td id=\"T_a1c4d_row11_col12\" class=\"data row11 col12\" >0.970121</td>\n",
              "    </tr>\n",
              "    <tr>\n",
              "      <th id=\"T_a1c4d_level0_row12\" class=\"row_heading level0 row12\" > Total Fwd Packets</th>\n",
              "      <td id=\"T_a1c4d_row12_col0\" class=\"data row12 col0\" >0.042212</td>\n",
              "      <td id=\"T_a1c4d_row12_col1\" class=\"data row12 col1\" >0.017606</td>\n",
              "      <td id=\"T_a1c4d_row12_col2\" class=\"data row12 col2\" >0.017606</td>\n",
              "      <td id=\"T_a1c4d_row12_col3\" class=\"data row12 col3\" >0.171006</td>\n",
              "      <td id=\"T_a1c4d_row12_col4\" class=\"data row12 col4\" >1.000000</td>\n",
              "      <td id=\"T_a1c4d_row12_col5\" class=\"data row12 col5\" >0.171006</td>\n",
              "      <td id=\"T_a1c4d_row12_col6\" class=\"data row12 col6\" >0.207829</td>\n",
              "      <td id=\"T_a1c4d_row12_col7\" class=\"data row12 col7\" >0.889887</td>\n",
              "      <td id=\"T_a1c4d_row12_col8\" class=\"data row12 col8\" >0.970121</td>\n",
              "      <td id=\"T_a1c4d_row12_col9\" class=\"data row12 col9\" >0.107313</td>\n",
              "      <td id=\"T_a1c4d_row12_col10\" class=\"data row12 col10\" >0.087258</td>\n",
              "      <td id=\"T_a1c4d_row12_col11\" class=\"data row12 col11\" >0.970121</td>\n",
              "      <td id=\"T_a1c4d_row12_col12\" class=\"data row12 col12\" >1.000000</td>\n",
              "    </tr>\n",
              "  </tbody>\n",
              "</table>\n"
            ]
          },
          "metadata": {},
          "execution_count": 31
        }
      ]
    },
    {
      "cell_type": "code",
      "source": [
        "from statsmodels.stats.outliers_influence import variance_inflation_factor\n",
        "vif = pd.DataFrame()\n",
        "vif[\"features\"] = IDT_DS_x.columns\n",
        "vif[\"vif_Factor\"] = [variance_inflation_factor(IDT_DS_x.values, i) for i in range(IDT_DS_x.shape[1])]\n",
        "vif = vif[vif.vif_Factor < 10]\n",
        "vif"
      ],
      "metadata": {
        "colab": {
          "base_uri": "https://localhost:8080/",
          "height": 242
        },
        "id": "NEtj51BuZ1U-",
        "outputId": "caa62214-fc1a-4542-dd05-3c22fe89b2d3"
      },
      "execution_count": null,
      "outputs": [
        {
          "output_type": "stream",
          "name": "stderr",
          "text": [
            "/usr/local/lib/python3.10/dist-packages/statsmodels/stats/outliers_influence.py:198: RuntimeWarning: divide by zero encountered in double_scalars\n",
            "  vif = 1. / (1. - r_squared_i)\n"
          ]
        },
        {
          "output_type": "execute_result",
          "data": {
            "text/plain": [
              "                  features  vif_Factor\n",
              "0    Fwd Packet Length Max    9.480157\n",
              "6            Fwd IAT Total    6.259833\n",
              "7         act_data_pkt_fwd    8.534815\n",
              "9   Init_Win_bytes_forward    1.140778\n",
              "10             Fwd IAT Std    6.705412"
            ],
            "text/html": [
              "\n",
              "  <div id=\"df-ac3f9e1c-6c21-4d78-9c07-5ae7c4d018b6\" class=\"colab-df-container\">\n",
              "    <div>\n",
              "<style scoped>\n",
              "    .dataframe tbody tr th:only-of-type {\n",
              "        vertical-align: middle;\n",
              "    }\n",
              "\n",
              "    .dataframe tbody tr th {\n",
              "        vertical-align: top;\n",
              "    }\n",
              "\n",
              "    .dataframe thead th {\n",
              "        text-align: right;\n",
              "    }\n",
              "</style>\n",
              "<table border=\"1\" class=\"dataframe\">\n",
              "  <thead>\n",
              "    <tr style=\"text-align: right;\">\n",
              "      <th></th>\n",
              "      <th>features</th>\n",
              "      <th>vif_Factor</th>\n",
              "    </tr>\n",
              "  </thead>\n",
              "  <tbody>\n",
              "    <tr>\n",
              "      <th>0</th>\n",
              "      <td>Fwd Packet Length Max</td>\n",
              "      <td>9.480157</td>\n",
              "    </tr>\n",
              "    <tr>\n",
              "      <th>6</th>\n",
              "      <td>Fwd IAT Total</td>\n",
              "      <td>6.259833</td>\n",
              "    </tr>\n",
              "    <tr>\n",
              "      <th>7</th>\n",
              "      <td>act_data_pkt_fwd</td>\n",
              "      <td>8.534815</td>\n",
              "    </tr>\n",
              "    <tr>\n",
              "      <th>9</th>\n",
              "      <td>Init_Win_bytes_forward</td>\n",
              "      <td>1.140778</td>\n",
              "    </tr>\n",
              "    <tr>\n",
              "      <th>10</th>\n",
              "      <td>Fwd IAT Std</td>\n",
              "      <td>6.705412</td>\n",
              "    </tr>\n",
              "  </tbody>\n",
              "</table>\n",
              "</div>\n",
              "    <div class=\"colab-df-buttons\">\n",
              "\n",
              "  <div class=\"colab-df-container\">\n",
              "    <button class=\"colab-df-convert\" onclick=\"convertToInteractive('df-ac3f9e1c-6c21-4d78-9c07-5ae7c4d018b6')\"\n",
              "            title=\"Convert this dataframe to an interactive table.\"\n",
              "            style=\"display:none;\">\n",
              "\n",
              "  <svg xmlns=\"http://www.w3.org/2000/svg\" height=\"24px\" viewBox=\"0 -960 960 960\">\n",
              "    <path d=\"M120-120v-720h720v720H120Zm60-500h600v-160H180v160Zm220 220h160v-160H400v160Zm0 220h160v-160H400v160ZM180-400h160v-160H180v160Zm440 0h160v-160H620v160ZM180-180h160v-160H180v160Zm440 0h160v-160H620v160Z\"/>\n",
              "  </svg>\n",
              "    </button>\n",
              "\n",
              "  <style>\n",
              "    .colab-df-container {\n",
              "      display:flex;\n",
              "      gap: 12px;\n",
              "    }\n",
              "\n",
              "    .colab-df-convert {\n",
              "      background-color: #E8F0FE;\n",
              "      border: none;\n",
              "      border-radius: 50%;\n",
              "      cursor: pointer;\n",
              "      display: none;\n",
              "      fill: #1967D2;\n",
              "      height: 32px;\n",
              "      padding: 0 0 0 0;\n",
              "      width: 32px;\n",
              "    }\n",
              "\n",
              "    .colab-df-convert:hover {\n",
              "      background-color: #E2EBFA;\n",
              "      box-shadow: 0px 1px 2px rgba(60, 64, 67, 0.3), 0px 1px 3px 1px rgba(60, 64, 67, 0.15);\n",
              "      fill: #174EA6;\n",
              "    }\n",
              "\n",
              "    .colab-df-buttons div {\n",
              "      margin-bottom: 4px;\n",
              "    }\n",
              "\n",
              "    [theme=dark] .colab-df-convert {\n",
              "      background-color: #3B4455;\n",
              "      fill: #D2E3FC;\n",
              "    }\n",
              "\n",
              "    [theme=dark] .colab-df-convert:hover {\n",
              "      background-color: #434B5C;\n",
              "      box-shadow: 0px 1px 3px 1px rgba(0, 0, 0, 0.15);\n",
              "      filter: drop-shadow(0px 1px 2px rgba(0, 0, 0, 0.3));\n",
              "      fill: #FFFFFF;\n",
              "    }\n",
              "  </style>\n",
              "\n",
              "    <script>\n",
              "      const buttonEl =\n",
              "        document.querySelector('#df-ac3f9e1c-6c21-4d78-9c07-5ae7c4d018b6 button.colab-df-convert');\n",
              "      buttonEl.style.display =\n",
              "        google.colab.kernel.accessAllowed ? 'block' : 'none';\n",
              "\n",
              "      async function convertToInteractive(key) {\n",
              "        const element = document.querySelector('#df-ac3f9e1c-6c21-4d78-9c07-5ae7c4d018b6');\n",
              "        const dataTable =\n",
              "          await google.colab.kernel.invokeFunction('convertToInteractive',\n",
              "                                                    [key], {});\n",
              "        if (!dataTable) return;\n",
              "\n",
              "        const docLinkHtml = 'Like what you see? Visit the ' +\n",
              "          '<a target=\"_blank\" href=https://colab.research.google.com/notebooks/data_table.ipynb>data table notebook</a>'\n",
              "          + ' to learn more about interactive tables.';\n",
              "        element.innerHTML = '';\n",
              "        dataTable['output_type'] = 'display_data';\n",
              "        await google.colab.output.renderOutput(dataTable, element);\n",
              "        const docLink = document.createElement('div');\n",
              "        docLink.innerHTML = docLinkHtml;\n",
              "        element.appendChild(docLink);\n",
              "      }\n",
              "    </script>\n",
              "  </div>\n",
              "\n",
              "\n",
              "<div id=\"df-082c2960-d604-44dd-9fc0-d7076db988c4\">\n",
              "  <button class=\"colab-df-quickchart\" onclick=\"quickchart('df-082c2960-d604-44dd-9fc0-d7076db988c4')\"\n",
              "            title=\"Suggest charts\"\n",
              "            style=\"display:none;\">\n",
              "\n",
              "<svg xmlns=\"http://www.w3.org/2000/svg\" height=\"24px\"viewBox=\"0 0 24 24\"\n",
              "     width=\"24px\">\n",
              "    <g>\n",
              "        <path d=\"M19 3H5c-1.1 0-2 .9-2 2v14c0 1.1.9 2 2 2h14c1.1 0 2-.9 2-2V5c0-1.1-.9-2-2-2zM9 17H7v-7h2v7zm4 0h-2V7h2v10zm4 0h-2v-4h2v4z\"/>\n",
              "    </g>\n",
              "</svg>\n",
              "  </button>\n",
              "\n",
              "<style>\n",
              "  .colab-df-quickchart {\n",
              "      --bg-color: #E8F0FE;\n",
              "      --fill-color: #1967D2;\n",
              "      --hover-bg-color: #E2EBFA;\n",
              "      --hover-fill-color: #174EA6;\n",
              "      --disabled-fill-color: #AAA;\n",
              "      --disabled-bg-color: #DDD;\n",
              "  }\n",
              "\n",
              "  [theme=dark] .colab-df-quickchart {\n",
              "      --bg-color: #3B4455;\n",
              "      --fill-color: #D2E3FC;\n",
              "      --hover-bg-color: #434B5C;\n",
              "      --hover-fill-color: #FFFFFF;\n",
              "      --disabled-bg-color: #3B4455;\n",
              "      --disabled-fill-color: #666;\n",
              "  }\n",
              "\n",
              "  .colab-df-quickchart {\n",
              "    background-color: var(--bg-color);\n",
              "    border: none;\n",
              "    border-radius: 50%;\n",
              "    cursor: pointer;\n",
              "    display: none;\n",
              "    fill: var(--fill-color);\n",
              "    height: 32px;\n",
              "    padding: 0;\n",
              "    width: 32px;\n",
              "  }\n",
              "\n",
              "  .colab-df-quickchart:hover {\n",
              "    background-color: var(--hover-bg-color);\n",
              "    box-shadow: 0 1px 2px rgba(60, 64, 67, 0.3), 0 1px 3px 1px rgba(60, 64, 67, 0.15);\n",
              "    fill: var(--button-hover-fill-color);\n",
              "  }\n",
              "\n",
              "  .colab-df-quickchart-complete:disabled,\n",
              "  .colab-df-quickchart-complete:disabled:hover {\n",
              "    background-color: var(--disabled-bg-color);\n",
              "    fill: var(--disabled-fill-color);\n",
              "    box-shadow: none;\n",
              "  }\n",
              "\n",
              "  .colab-df-spinner {\n",
              "    border: 2px solid var(--fill-color);\n",
              "    border-color: transparent;\n",
              "    border-bottom-color: var(--fill-color);\n",
              "    animation:\n",
              "      spin 1s steps(1) infinite;\n",
              "  }\n",
              "\n",
              "  @keyframes spin {\n",
              "    0% {\n",
              "      border-color: transparent;\n",
              "      border-bottom-color: var(--fill-color);\n",
              "      border-left-color: var(--fill-color);\n",
              "    }\n",
              "    20% {\n",
              "      border-color: transparent;\n",
              "      border-left-color: var(--fill-color);\n",
              "      border-top-color: var(--fill-color);\n",
              "    }\n",
              "    30% {\n",
              "      border-color: transparent;\n",
              "      border-left-color: var(--fill-color);\n",
              "      border-top-color: var(--fill-color);\n",
              "      border-right-color: var(--fill-color);\n",
              "    }\n",
              "    40% {\n",
              "      border-color: transparent;\n",
              "      border-right-color: var(--fill-color);\n",
              "      border-top-color: var(--fill-color);\n",
              "    }\n",
              "    60% {\n",
              "      border-color: transparent;\n",
              "      border-right-color: var(--fill-color);\n",
              "    }\n",
              "    80% {\n",
              "      border-color: transparent;\n",
              "      border-right-color: var(--fill-color);\n",
              "      border-bottom-color: var(--fill-color);\n",
              "    }\n",
              "    90% {\n",
              "      border-color: transparent;\n",
              "      border-bottom-color: var(--fill-color);\n",
              "    }\n",
              "  }\n",
              "</style>\n",
              "\n",
              "  <script>\n",
              "    async function quickchart(key) {\n",
              "      const quickchartButtonEl =\n",
              "        document.querySelector('#' + key + ' button');\n",
              "      quickchartButtonEl.disabled = true;  // To prevent multiple clicks.\n",
              "      quickchartButtonEl.classList.add('colab-df-spinner');\n",
              "      try {\n",
              "        const charts = await google.colab.kernel.invokeFunction(\n",
              "            'suggestCharts', [key], {});\n",
              "      } catch (error) {\n",
              "        console.error('Error during call to suggestCharts:', error);\n",
              "      }\n",
              "      quickchartButtonEl.classList.remove('colab-df-spinner');\n",
              "      quickchartButtonEl.classList.add('colab-df-quickchart-complete');\n",
              "    }\n",
              "    (() => {\n",
              "      let quickchartButtonEl =\n",
              "        document.querySelector('#df-082c2960-d604-44dd-9fc0-d7076db988c4 button');\n",
              "      quickchartButtonEl.style.display =\n",
              "        google.colab.kernel.accessAllowed ? 'block' : 'none';\n",
              "    })();\n",
              "  </script>\n",
              "</div>\n",
              "    </div>\n",
              "  </div>\n"
            ]
          },
          "metadata": {},
          "execution_count": 32
        }
      ]
    },
    {
      "cell_type": "code",
      "source": [
        "from sklearn.linear_model import LogisticRegressionCV\n",
        "import random\n",
        "lrCV = LogisticRegressionCV(cv=10, random_state=random.randint(0,10000), max_iter=100, solver='lbfgs', verbose=True).fit(IDT_DS_x[vif.features], y_train)\n",
        "#lrCV = LogisticRegressionCV(cv=10, random_state=random.randint(0,10000), max_iter=100, solver='newton-cholesky', verbose=True).fit(IDT_DS_x[vif.features], y_train)\n",
        "# there are warnings\n",
        "y_pred = lrCV.predict(X_test[vif.features])\n",
        "\n",
        "print(\"Accuracy of LR:\", accuracy_score(y_test, y_pred))\n",
        "print(\"Precision of LR:\", precision_score(y_test, y_pred,pos_label='DDoS'))\n",
        "print(\"Recall of LR:\", recall_score(y_test, y_pred,pos_label='DDoS'))\n",
        "print(\"Fscore of LR:\", f1_score(y_test, y_pred,pos_label='DDoS'))\n"
      ],
      "metadata": {
        "colab": {
          "base_uri": "https://localhost:8080/"
        },
        "id": "oTGi09NeNspR",
        "outputId": "31111be7-c0a8-477b-eb22-98c65fe9a06c"
      },
      "execution_count": null,
      "outputs": [
        {
          "output_type": "stream",
          "name": "stdout",
          "text": [
            "Accuracy of LR: 0.9689874399131648\n",
            "Precision of LR: 0.9498420954857886\n",
            "Recall of LR: 0.9980480187390202\n",
            "Fscore of LR: 0.9733485627260612\n"
          ]
        }
      ]
    },
    {
      "cell_type": "markdown",
      "source": [
        "The resulting accuracy (default returned score) is 0.97"
      ],
      "metadata": {
        "id": "inPaby7NZY68"
      }
    },
    {
      "cell_type": "markdown",
      "source": [
        "### SVM"
      ],
      "metadata": {
        "id": "lyM8Wg6la_n5"
      }
    },
    {
      "cell_type": "code",
      "source": [
        "from sklearn.svm import SVC\n",
        "svCV = SVC(random_state=random.randint(0,10000), gamma='auto')\n",
        "svCV.fit(IDT_DS_x, y_train)\n",
        "y_pred = svCV.predict(X_test[imp_feature_list])\n",
        "\n",
        "print(\"Accuracy of SVM:\", accuracy_score(y_test, y_pred))\n",
        "print(\"Precision of SVM:\", precision_score(y_test, y_pred,pos_label='DDoS'))\n",
        "print(\"Recall of SVM:\", recall_score(y_test, y_pred,pos_label='DDoS'))\n",
        "print(\"Fscore of SVM\", f1_score(y_test, y_pred,pos_label='DDoS'))"
      ],
      "metadata": {
        "id": "ujF0lurJWoHx",
        "colab": {
          "base_uri": "https://localhost:8080/"
        },
        "outputId": "571dab18-291f-4b98-f248-fe282461eade"
      },
      "execution_count": null,
      "outputs": [
        {
          "output_type": "stream",
          "name": "stdout",
          "text": [
            "Accuracy of SVM: 0.9921361008351239\n",
            "Precision of SVM: 0.9886636229977559\n",
            "Recall of SVM: 0.997579543236385\n",
            "Fscore of SVM 0.9931015720642816\n"
          ]
        }
      ]
    },
    {
      "cell_type": "markdown",
      "source": [
        "The resulting accuracy (defeault return score) is 0.99, larger than the 0.95-score for the original dataset"
      ],
      "metadata": {
        "id": "ufPJzUZ_crse"
      }
    },
    {
      "cell_type": "markdown",
      "source": [
        "### NB\n",
        "We use GaussianNB and will define the prior probabilities of each class by investigating the number of occurrences of each class in the training dataset"
      ],
      "metadata": {
        "id": "k4vtN403dMZ6"
      }
    },
    {
      "cell_type": "code",
      "source": [
        "np.array(np.unique(y_train, return_counts=True)).T"
      ],
      "metadata": {
        "colab": {
          "base_uri": "https://localhost:8080/"
        },
        "id": "V1rxzlwQfK6o",
        "outputId": "c9dc1f8d-55f5-47f7-b13d-ea725ddab889"
      },
      "execution_count": null,
      "outputs": [
        {
          "output_type": "execute_result",
          "data": {
            "text/plain": [
              "array([['BENIGN', 78158],\n",
              "       ['DDoS', 102410]], dtype=object)"
            ]
          },
          "metadata": {},
          "execution_count": 35
        }
      ]
    },
    {
      "cell_type": "code",
      "source": [
        "#the priors need to be adjusted to the output of the count function above\n",
        "prior_anomaly = 102551/(102551+78017)\n",
        "prior_normal = 78017/(102551+78017)"
      ],
      "metadata": {
        "id": "9YVRFJJFfjUG"
      },
      "execution_count": null,
      "outputs": []
    },
    {
      "cell_type": "code",
      "source": [
        "from sklearn.naive_bayes import GaussianNB\n",
        "nb = GaussianNB(priors=[prior_normal, prior_anomaly])\n",
        "nb.fit(IDT_DS_x, y_train)\n",
        "y_pred = nb.predict(X_test[imp_feature_list])\n",
        "\n",
        "print(\"Accuracy of NB:\", accuracy_score(y_test, y_pred))\n",
        "print(\"Precision of NB:\", precision_score(y_test, y_pred,pos_label='DDoS'))\n",
        "print(\"Recall of NB:\", recall_score(y_test, y_pred,pos_label='DDoS'))\n",
        "print(\"Fscore of NB\", f1_score(y_test, y_pred,pos_label='DDoS'))"
      ],
      "metadata": {
        "colab": {
          "base_uri": "https://localhost:8080/"
        },
        "id": "xjzBNb5BcLPo",
        "outputId": "43c9cd27-0ad4-4490-bc56-405695224679"
      },
      "execution_count": null,
      "outputs": [
        {
          "output_type": "stream",
          "name": "stdout",
          "text": [
            "Accuracy of NB: 0.8959085572514011\n",
            "Precision of NB: 0.8449891139407535\n",
            "Recall of NB: 1.0\n",
            "Fscore of NB 0.9159827638613242\n"
          ]
        }
      ]
    },
    {
      "cell_type": "markdown",
      "source": [
        "The results of the Gaussian Naive Bayes approach is much lager than for the original dataset (0.98 versus 0.61)\n"
      ],
      "metadata": {
        "id": "Z60-LAEFgShO"
      }
    },
    {
      "cell_type": "markdown",
      "source": [
        "## KNN"
      ],
      "metadata": {
        "id": "LknflyVQnDI_"
      }
    },
    {
      "cell_type": "code",
      "source": [
        "from sklearn.neighbors import KNeighborsClassifier\n",
        "knc = KNeighborsClassifier()\n",
        "knc.fit(IDT_DS_x,y_train)\n",
        "y_pred = knc.predict(X_test[imp_feature_list])\n",
        "\n",
        "print(\"Accuracy of KNN:\", accuracy_score(y_test, y_pred))\n",
        "print(\"Precision of KNN:\", precision_score(y_test, y_pred,pos_label='DDoS'))\n",
        "print(\"Recall of KNN:\", recall_score(y_test, y_pred,pos_label='DDoS'))\n",
        "print(\"Fscore of KNN\", f1_score(y_test, y_pred,pos_label='DDoS'))"
      ],
      "metadata": {
        "id": "sKWXsDM-eDf5",
        "colab": {
          "base_uri": "https://localhost:8080/"
        },
        "outputId": "7b7d4a9f-f3a1-4f1d-9076-cc6a61643419"
      },
      "execution_count": null,
      "outputs": [
        {
          "output_type": "stream",
          "name": "stdout",
          "text": [
            "Accuracy of KNN: 0.999313293312363\n",
            "Precision of KNN: 0.9993364040908737\n",
            "Recall of KNN: 0.9994534452469256\n",
            "Fscore of KNN 0.9993949212421682\n"
          ]
        }
      ]
    },
    {
      "cell_type": "markdown",
      "source": [
        "Results are again better than for original dataset (0.991 versus 0.999)"
      ],
      "metadata": {
        "id": "_0FyxVnHnWM0"
      }
    }
  ]
}